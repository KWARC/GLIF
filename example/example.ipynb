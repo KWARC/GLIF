{
 "cells": [
  {
   "cell_type": "code",
   "execution_count": 2,
   "metadata": {},
   "outputs": [
    {
     "data": {
      "text/html": [
       "Successfully imported Food.gf"
      ]
     },
     "metadata": {},
     "output_type": "display_data"
    }
   ],
   "source": [
    "abstract Food = {\n",
    "  \n",
    "      flags startcat = Phrase ;\n",
    "  \n",
    "      cat\n",
    "        Phrase ; Item ; Kind ; Quality ;\n",
    "  \n",
    "      fun\n",
    "        Is : Item -> Quality -> Phrase ;\n",
    "        This, That : Kind -> Item ;\n",
    "        QKind : Quality -> Kind -> Kind ;\n",
    "        Wine, Cheese, Fish : Kind ;\n",
    "        Very : Quality -> Quality ;\n",
    "        Fresh, Warm, Italian, Expensive, Delicious, Boring : Quality ;\n",
    "}"
   ]
  },
  {
   "cell_type": "code",
   "execution_count": 3,
   "metadata": {},
   "outputs": [
    {
     "data": {
      "text/html": [
       "Successfully imported FoodEng.gf"
      ]
     },
     "metadata": {},
     "output_type": "display_data"
    }
   ],
   "source": [
    "concrete FoodEng of Food = {\n",
    "  \n",
    "      lincat\n",
    "        Phrase, Item, Kind, Quality = {s : Str} ;\n",
    "  \n",
    "      lin\n",
    "        Is item quality = {s = item.s ++ \"is\" ++ quality.s} ;\n",
    "        This kind = {s = \"this\" ++ kind.s} ;\n",
    "        That kind = {s = \"that\" ++ kind.s} ;\n",
    "        QKind quality kind = {s = quality.s ++ kind.s} ;\n",
    "        Wine = {s = \"wine\"} ;\n",
    "        Cheese = {s = \"cheese\"} ;\n",
    "        Fish = {s = \"fish\"} ;\n",
    "        Very quality = {s = \"very\" ++ quality.s} ;\n",
    "        Fresh = {s = \"fresh\"} ;\n",
    "        Warm = {s = \"warm\"} ;\n",
    "        Italian = {s = \"Italian\"} ;\n",
    "        Expensive = {s = \"expensive\"} ;\n",
    "        Delicious = {s = \"delicious\"} ;\n",
    "        Boring = {s = \"boring\"} ;\n",
    "    }"
   ]
  },
  {
   "cell_type": "code",
   "execution_count": 3,
   "metadata": {},
   "outputs": [
    {
     "data": {
      "text/html": [
       "Is (This (QKind Delicious Wine)) (Very (Very Italian))"
      ]
     },
     "metadata": {},
     "output_type": "display_data"
    }
   ],
   "source": [
    "parse \"this delicious wine is very very Italian\""
   ]
  },
  {
   "cell_type": "code",
   "execution_count": 4,
   "metadata": {},
   "outputs": [
    {
     "data": {
      "text/html": [
       "QKind (Very Italian) Wine"
      ]
     },
     "metadata": {},
     "output_type": "display_data"
    }
   ],
   "source": [
    "parse -cat=Kind \"very Italian wine\""
   ]
  },
  {
   "cell_type": "code",
   "execution_count": 5,
   "metadata": {},
   "outputs": [
    {
     "data": {
      "text/html": [
       "Is (This (QKind (Very Expensive) Wine)) Delicious"
      ]
     },
     "metadata": {},
     "output_type": "display_data"
    }
   ],
   "source": [
    "generate_random"
   ]
  },
  {
   "cell_type": "code",
   "execution_count": 6,
   "metadata": {},
   "outputs": [
    {
     "data": {
      "text/html": [
       "graph {n0[label = \"Is : Phrase\", style = \"solid\", shape = \"plaintext\"] ;n0_0[label = \"This : Item\", style = \"solid\", shape = \"plaintext\"] ;n0 -- n0_0 [style = \"solid\"];n0_0_0[label = \"QKind : Kind\", style = \"solid\", shape = \"plaintext\"] ;n0_0 -- n0_0_0 [style = \"solid\"];n0_0_0_0[label = \"Delicious : Quality\", style = \"solid\", shape = \"plaintext\"] ;n0_0_0 -- n0_0_0_0 [style = \"solid\"];n1_0_0_0[label = \"Cheese : Kind\", style = \"solid\", shape = \"plaintext\"] ;n0_0_0 -- n1_0_0_0 [style = \"solid\"];n1_0[label = \"Very : Quality\", style = \"solid\", shape = \"plaintext\"] ;n0 -- n1_0 [style = \"solid\"];n0_1_0[label = \"Italian : Quality\", style = \"solid\", shape = \"plaintext\"] ;n1_0 -- n0_1_0 [style = \"solid\"];}"
      ]
     },
     "metadata": {},
     "output_type": "display_data"
    }
   ],
   "source": [
    "parse \"this delicious cheese is very Italian\" | visualize_tree"
   ]
  },
  {
   "cell_type": "code",
   "execution_count": 7,
   "metadata": {},
   "outputs": [
    {
     "data": {
      "text/html": []
     },
     "metadata": {},
     "output_type": "display_data"
    }
   ],
   "source": [
    "parse \"this delicious cheese is very Italian\" | visualize_tree -view=\"eog\""
   ]
  },
  {
   "cell_type": "code",
   "execution_count": 1,
   "metadata": {},
   "outputs": [
    {
     "data": {
      "text/html": []
     },
     "metadata": {},
     "output_type": "display_data"
    }
   ],
   "source": [
    "parse \"this delicious cheese is very Italian\" | visualize_parse -view=\"eog\""
   ]
  },
  {
   "cell_type": "code",
   "execution_count": null,
   "metadata": {},
   "outputs": [],
   "source": []
  }
 ],
 "metadata": {
  "kernelspec": {
   "display_name": "GF",
   "language": "gf",
   "name": "gf"
  },
  "language_info": {
   "file_extension": ".gf",
   "mimetype": "text/gf",
   "name": "gf"
  }
 },
 "nbformat": 4,
 "nbformat_minor": 2
}
