{
 "cells": [
  {
   "cell_type": "code",
   "execution_count": 1,
   "metadata": {},
   "outputs": [
    {
     "data": {
      "text/plain": [
       "Defined Food"
      ]
     },
     "metadata": {},
     "output_type": "display_data"
    }
   ],
   "source": [
    "-- A grammar about food\n",
    "\n",
    "abstract Food = {\n",
    "      \n",
    "      flags startcat = Phrase ;\n",
    "  \n",
    "      cat\n",
    "        Phrase ; Item ; Kind ; Quality ;\n",
    "  \n",
    "      fun\n",
    "        Is : Item -> Quality -> Phrase ;\n",
    "        This, That : Kind -> Item ;\n",
    "        QKind : Quality -> Kind -> Kind ;\n",
    "        Wine, Cheese, Fish : Kind ;\n",
    "        Very : Quality -> Quality ;\n",
    "        Fresh, Warm, Italian, Expensive, Delicious, Boring : Quality ;\n",
    "}"
   ]
  },
  {
   "cell_type": "code",
   "execution_count": 2,
   "metadata": {},
   "outputs": [
    {
     "data": {
      "text/plain": [
       "Defined FoodEng"
      ]
     },
     "metadata": {},
     "output_type": "display_data"
    }
   ],
   "source": [
    "concrete FoodEng of Food = {\n",
    "  \n",
    "      lincat\n",
    "        Phrase, Item, Kind, Quality = {s : Str} ;\n",
    "  \n",
    "      lin\n",
    "        Is item quality = {s = item.s ++ \"is\" ++ quality.s} ;\n",
    "        This kind = {s = \"this\" ++ kind.s} ;\n",
    "        That kind = {s = \"that\" ++ kind.s} ;\n",
    "        QKind quality kind = {s = quality.s ++ kind.s} ;\n",
    "        Wine = {s = \"wine\"} ;\n",
    "        Cheese = {s = \"cheese\"} ;\n",
    "        Fish = {s = \"fish\"} ;\n",
    "        Very quality = {s = \"very\" ++ quality.s} ;\n",
    "        Fresh = {s = \"fresh\"} ;\n",
    "        Warm = {s = \"warm\"} ;\n",
    "        Italian = {s = \"Italian\"} ;\n",
    "        Expensive = {s = \"expensive\"} ;\n",
    "        Delicious = {s = \"delicious\"} ;\n",
    "        Boring = {s = \"boring\"} ;\n",
    "    }"
   ]
  },
  {
   "cell_type": "code",
   "execution_count": 3,
   "metadata": {},
   "outputs": [
    {
     "data": {
      "text/plain": [
       "Is (This (QKind Delicious Wine)) (Very (Very Italian))\n"
      ]
     },
     "metadata": {},
     "output_type": "display_data"
    }
   ],
   "source": [
    "parse \"this delicious wine is very very Italian\""
   ]
  },
  {
   "cell_type": "code",
   "execution_count": 4,
   "metadata": {},
   "outputs": [
    {
     "data": {
      "text/plain": [
       "QKind (Very Italian) Wine\n"
      ]
     },
     "metadata": {},
     "output_type": "display_data"
    }
   ],
   "source": [
    "parse -cat=Kind \"very Italian wine\""
   ]
  },
  {
   "cell_type": "code",
   "execution_count": 5,
   "metadata": {},
   "outputs": [
    {
     "data": {
      "text/plain": [
       "that wine is Italian\n",
       "this wine is warm\n",
       "this wine is boring\n",
       "this wine is very fresh\n",
       "that cheese is very delicious\n",
       "this cheese is expensive\n",
       "this warm fish is delicious\n",
       "that very boring warm wine is warm\n",
       "this fish is delicious\n",
       "this expensive warm cheese is warm\n"
      ]
     },
     "metadata": {},
     "output_type": "display_data"
    }
   ],
   "source": [
    "gr -number=10 | l"
   ]
  },
  {
   "cell_type": "code",
   "execution_count": 6,
   "metadata": {},
   "outputs": [
    {
     "data": {
      "text/plain": [
       "graph {\n",
       "n0[label = \"Is : Phrase\", style = \"solid\", shape = \"plaintext\"] ;\n",
       "n0_0[label = \"This : Item\", style = \"solid\", shape = \"plaintext\"] ;\n",
       "n0 -- n0_0 [style = \"solid\"];\n",
       "n0_0_0[label = \"QKind : Kind\", style = \"solid\", shape = \"plaintext\"] ;\n",
       "n0_0 -- n0_0_0 [style = \"solid\"];\n",
       "n0_0_0_0[label = \"Delicious : Quality\", style = \"solid\", shape = \"plaintext\"] ;\n",
       "n0_0_0 -- n0_0_0_0 [style = \"solid\"];\n",
       "n1_0_0_0[label = \"Cheese : Kind\", style = \"solid\", shape = \"plaintext\"] ;\n",
       "n0_0_0 -- n1_0_0_0 [style = \"solid\"];\n",
       "n1_0[label = \"Very : Quality\", style = \"solid\", shape = \"plaintext\"] ;\n",
       "n0 -- n1_0 [style = \"solid\"];\n",
       "n0_1_0[label = \"Italian : Quality\", style = \"solid\", shape = \"plaintext\"] ;\n",
       "n1_0 -- n0_1_0 [style = \"solid\"];\n",
       "}\n"
      ]
     },
     "metadata": {},
     "output_type": "display_data"
    }
   ],
   "source": [
    "parse \"this delicious cheese is very Italian\" | visualize_tree"
   ]
  },
  {
   "cell_type": "code",
   "execution_count": 7,
   "metadata": {},
   "outputs": [
    {
     "data": {
      "text/plain": []
     },
     "metadata": {},
     "output_type": "display_data"
    }
   ],
   "source": [
    "parse \"this delicious cheese is very Italian\" | visualize_tree -view=\"eog\""
   ]
  },
  {
   "cell_type": "code",
   "execution_count": 8,
   "metadata": {},
   "outputs": [
    {
     "data": {
      "image/png": "[encoded data removed]",
      "text/plain": [
       "<IPython.core.display.Image object>"
      ]
     },
     "metadata": {},
     "output_type": "display_data"
    },
    {
     "data": {
      "text/plain": []
     },
     "metadata": {},
     "output_type": "display_data"
    }
   ],
   "source": [
    "view parse \"this delicious cheese is very Italian\" | visualize_parse"
   ]
  },
  {
   "cell_type": "code",
   "execution_count": 9,
   "metadata": {},
   "outputs": [
    {
     "data": {
      "text/plain": [
       "Removed ./out0.dot\n",
       "Removed ./Food.gfo\n",
       "Removed ./_grpht_1.dot\n",
       "Removed ./FoodEng.gfo\n",
       "Removed ./_grpht_1.png\n",
       "Removed ./out0.png\n"
      ]
     },
     "metadata": {},
     "output_type": "display_data"
    }
   ],
   "source": [
    "clean"
   ]
  },
  {
   "cell_type": "code",
   "execution_count": null,
   "metadata": {},
   "outputs": [],
   "source": []
  }
 ],
 "metadata": {
  "kernelspec": {
   "display_name": "GF",
   "language": "gf",
   "name": "gf"
  },
  "language_info": {
   "file_extension": ".gf",
   "mimetype": "text/gf",
   "name": "gf"
  }
 },
 "nbformat": 4,
 "nbformat_minor": 2
}
