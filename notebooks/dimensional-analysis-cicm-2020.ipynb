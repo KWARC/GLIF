{
 "cells": [
  {
   "cell_type": "markdown",
   "metadata": {},
   "source": [
    "# Dimensional Analysis\n",
    "\n",
    "This notebook prototypes a small controlled natural language for specifying physical properties.\n",
    "Our example sentence is\n",
    "\n",
    "    the ball has a mass of 5 kg and a kinetic energy of 12 mN\n",
    "\n",
    "and we want to obtain the logical expression\n",
    "\n",
    "    (mass theball (quant 5 kilo gram))∧(ekin theball (quant 12 meter Newton)).\n",
    "\n",
    "However, we have to use [dimensional analysis](https://en.wikipedia.org/wiki/Dimensional_analysis)\n",
    "to disambiguate whether *12 mN* stands for *12 milli Newton* or for *12 meter Newton*.\n",
    "Since *milli Newton* is not an energy, we can discard it.\n",
    "\n",
    "This example was created for a [paper submitted to CICM 2020](https://kwarc.info/people/mkohlhase/submit/cicm20-glif.pdf)."
   ]
  },
  {
   "cell_type": "code",
   "execution_count": 1,
   "metadata": {},
   "outputs": [
    {
     "data": {
      "text/plain": [
       "Changed to subdirectory dim_analysis"
      ]
     },
     "metadata": {},
     "output_type": "display_data"
    },
    {
     "data": {
      "text/plain": [
       "Successfully reloaded GF"
      ]
     },
     "metadata": {},
     "output_type": "display_data"
    }
   ],
   "source": [
    "subdir dim_analysis"
   ]
  },
  {
   "cell_type": "markdown",
   "metadata": {},
   "source": [
    "### Grammar"
   ]
  },
  {
   "cell_type": "code",
   "execution_count": 2,
   "metadata": {},
   "outputs": [
    {
     "data": {
      "text/plain": [
       "Defined Grammar"
      ]
     },
     "metadata": {},
     "output_type": "display_data"
    }
   ],
   "source": [
    "abstract Grammar = {\n",
    "    cat\n",
    "        Object;\n",
    "        Measurable;   -- kinetic energy\n",
    "        Measurement;  -- a kinetic energy of 3 m N\n",
    "        Measurements; -- a kinetic energy of 3 m N and a mass of 3 k g\n",
    "        Unit;         -- m N\n",
    "        S;            -- sentence\n",
    "        \n",
    "    fun\n",
    "        state : Object -> Measurements -> S;\n",
    "        unitCombine : Unit -> Unit -> Unit;\n",
    "        \n",
    "        measure : Measurable -> Int -> Unit -> Measurement;\n",
    "        toMeasurements : Measurement -> Measurements;\n",
    "        addMeasurement : Measurement -> Measurements -> Measurements;\n",
    "        \n",
    "        theball : Object;\n",
    "        thetrain : Object;\n",
    "        \n",
    "        eKin : Measurable;\n",
    "        mass : Measurable;\n",
    "        \n",
    "        meter : Unit;\n",
    "        newton : Unit;\n",
    "        gram : Unit;\n",
    "        \n",
    "        milli : Unit -> Unit;\n",
    "        kilo : Unit -> Unit;\n",
    "}"
   ]
  },
  {
   "cell_type": "code",
   "execution_count": 3,
   "metadata": {},
   "outputs": [],
   "source": [
    "concrete GrammarEng of Grammar = {\n",
    "  lincat\n",
    "    Object = Str;\n",
    "    Measurable = Str;\n",
    "    Measurement = Str;\n",
    "    Measurements = Str;\n",
    "    Unit = Str;\n",
    "    S = Str;\n",
    "    \n",
    "  lin\n",
    "    state obj ms = obj ++ \"has\" ++ ms;\n",
    "    unitCombine a b = a ++ b;\n",
    "    measure m i u = \"a\" ++ m ++ \"of\" ++ i.s ++ u;\n",
    "    toMeasurements m = m ;\n",
    "    addMeasurement a b = a ++ \"and\" ++ b;\n",
    "    theball = \"the ball\";\n",
    "    thetrain = \"the train\";\n",
    "    eKin = \"kinetic energy\";\n",
    "    mass = \"mass\";\n",
    "    meter = \"m\";\n",
    "    newton = \"N\";\n",
    "    gram = \"g\";\n",
    "    milli u = \"m\" ++ u;\n",
    "    kilo u = \"k\" ++ u;\n",
    "}"
   ]
  },
  {
   "cell_type": "code",
   "execution_count": 4,
   "metadata": {},
   "outputs": [
    {
     "data": {
      "text/plain": [
       "the train has a kinetic energy of 999 g"
      ]
     },
     "metadata": {},
     "output_type": "display_data"
    },
    {
     "data": {
      "text/plain": [
       "the ball has a mass of 999 N N and a mass of 999 N"
      ]
     },
     "metadata": {},
     "output_type": "display_data"
    },
    {
     "data": {
      "text/plain": [
       "the ball has a mass of 999 N and a mass of 999 g"
      ]
     },
     "metadata": {},
     "output_type": "display_data"
    },
    {
     "data": {
      "text/plain": [
       "the train has a kinetic energy of 999 k N"
      ]
     },
     "metadata": {},
     "output_type": "display_data"
    },
    {
     "data": {
      "text/plain": [
       "the ball has a kinetic energy of 999 g g"
      ]
     },
     "metadata": {},
     "output_type": "display_data"
    }
   ],
   "source": [
    "generate_random -number=5 | linearize"
   ]
  },
  {
   "cell_type": "code",
   "execution_count": 5,
   "metadata": {},
   "outputs": [
    {
     "data": {
      "text/plain": [
       "state theball (toMeasurements (measure mass 5 (kilo gram)))"
      ]
     },
     "metadata": {},
     "output_type": "display_data"
    }
   ],
   "source": [
    "parse \"the ball has a mass of 5 k g\""
   ]
  },
  {
   "cell_type": "markdown",
   "metadata": {},
   "source": [
    "**The example sentence generates two parse trees**"
   ]
  },
  {
   "cell_type": "code",
   "execution_count": 6,
   "metadata": {},
   "outputs": [
    {
     "data": {
      "text/plain": [
       "state theball (addMeasurement (measure mass 5 (kilo gram)) (toMeasurements (measure eKin 12 (milli newton))))"
      ]
     },
     "metadata": {},
     "output_type": "display_data"
    },
    {
     "data": {
      "text/plain": [
       "state theball (addMeasurement (measure mass 5 (kilo gram)) (toMeasurements (measure eKin 12 (unitCombine meter newton))))"
      ]
     },
     "metadata": {},
     "output_type": "display_data"
    }
   ],
   "source": [
    "parse \"the ball has a mass of 5 k g and a kinetic energy of 12 m N\""
   ]
  },
  {
   "cell_type": "code",
   "execution_count": 7,
   "metadata": {},
   "outputs": [
    {
     "data": {
      "text/plain": [
       "2 graphs generated"
      ]
     },
     "metadata": {},
     "output_type": "display_data"
    },
    {
     "data": {
      "application/vnd.jupyter.widget-view+json": {
       "model_id": "e8ccb3d654104770bc91f330ee2cf3d3",
       "version_major": 2,
       "version_minor": 0
      },
      "text/plain": [
       "Dropdown(description='Tree of:', layout=Layout(width='max-content'), options=('state theball (addMeasurement (…"
      ]
     },
     "metadata": {},
     "output_type": "display_data"
    },
    {
     "data": {
      "application/vnd.jupyter.widget-view+json": {
       "model_id": "13b4ff5781704e44b3012586b180925a",
       "version_major": 2,
       "version_minor": 0
      },
      "text/plain": [
       "Image(value=b'\\x89PNG\\r\\n\\x1a\\n\\x00\\x00\\x00\\rIHDR\\x00\\x00\\x02)\\x00\\x00\\x02\\x1b\\x08\\x06\\x00\\x00\\x00.!\\x0e\\xb8\\x…"
      ]
     },
     "metadata": {},
     "output_type": "display_data"
    }
   ],
   "source": [
    "parse \"the ball has a mass of 5 k g and a kinetic energy of 12 m N\" | vt -nocat | show"
   ]
  },
  {
   "cell_type": "markdown",
   "metadata": {},
   "source": [
    "### Target Logic and Semantics Construction"
   ]
  },
  {
   "cell_type": "code",
   "execution_count": 8,
   "metadata": {},
   "outputs": [
    {
     "data": {
      "text/plain": [
       "Created theory LogicAndDT"
      ]
     },
     "metadata": {},
     "output_type": "display_data"
    }
   ],
   "source": [
    "theory LogicAndDT : ur:?LF =\n",
    "    include ☞http://cds.omdoc.org/urtheories?NatSymbols ❙\n",
    "    proposition : type ❘ # o ❙\n",
    "    object : type ❘ # ι ❙\n",
    "    unit : type ❘ # u ❙\n",
    "    quantity : type ❘ # q ❙\n",
    "    \n",
    "    mult : u ⟶ u ⟶ u ❘ # 1 ⋅ 2 ❙\n",
    "    quant : NAT ⟶ u ⟶ q ❙\n",
    "    and : o ⟶ o ⟶ o ❘ # 1 ∧ 2 ❙\n",
    "    \n",
    "    ball : ι ❘ # theball ❙\n",
    "    train : ι ❘ # thetrain ❙\n",
    "    ekin : ι ⟶ q ⟶ o ❙\n",
    "    mass : ι ⟶ q ⟶ o ❙\n",
    "    newton : u ❘ # Newton ❙\n",
    "    gram : u ❘ # gram ❙\n",
    "    meter : u ❘ # meter ❙\n",
    "    milli : u ⟶ u ❘ # milli 1 ❙\n",
    "    kilo : u ⟶ u ❘ # kilo 1 ❙\n",
    "❚"
   ]
  },
  {
   "cell_type": "code",
   "execution_count": 9,
   "metadata": {},
   "outputs": [
    {
     "data": {
      "text/plain": [
       "Created view SemConstr"
      ]
     },
     "metadata": {},
     "output_type": "display_data"
    }
   ],
   "source": [
    "view SemConstr : http://mathhub.info/comma/jupyter/dim_analysis/Grammar.gf?Grammar -> ?LogicAndDT =\n",
    "    NAT = NAT ❙\n",
    "    zero = zero ❙\n",
    "\n",
    "    Object = ι ❙\n",
    "    Measurable = ι ⟶ q ⟶ o ❙\n",
    "    Measurement = ι ⟶ o ❙\n",
    "    Measurements = ι ⟶ o ❙\n",
    "    Unit = u ❙\n",
    "    S = o ❙\n",
    "\n",
    "    // state : Object ⟶ Measurements ⟶ Sentence ❙\n",
    "    state = [x, m] (m x) ❙\n",
    "    // unitCombine : Unit ⟶ Unit ⟶ Unit ❙\n",
    "    unitCombine = [a,b] a ⋅ b ❙\n",
    "    // measure : Measurable ⟶ Int ⟶ Unit ⟶ Measurement ❙\n",
    "    measure = [m,n,un] [x] m x (quant n un) ❙\n",
    "    // simpleMeasurements : Measurement ⟶ Measurements ❙\n",
    "    toMeasurements = [m] m ❙\n",
    "    // addMeasurement : Measurement ⟶ Measurements ⟶ Measurements ❙\n",
    "    addMeasurement = [m,ms] [x] (m x) ∧ (ms x) ❙\n",
    "    // theball : Object ❙\n",
    "    theball = ball ❙\n",
    "    // thetrain : Object ❙\n",
    "    thetrain = train ❙\n",
    "    // eKin : Measurable ❙\n",
    "    eKin = ekin ❙\n",
    "    // mass : Measurable ❙\n",
    "    mass = mass ❙\n",
    "    // meter : Unit ❙\n",
    "    meter = meter ❙\n",
    "    // newton : Unit ❙\n",
    "    newton = Newton ❙\n",
    "    // gram : Unit ❙\n",
    "    gram = gram ❙\n",
    "    // milli : Unit ⟶ Unit ❙\n",
    "    milli = milli ❙\n",
    "    // kilo : Unit ⟶ Unit ❙\n",
    "    kilo = kilo ❙\n",
    "❚"
   ]
  },
  {
   "cell_type": "markdown",
   "metadata": {},
   "source": [
    "**We get two different logical expressions**"
   ]
  },
  {
   "cell_type": "code",
   "execution_count": 10,
   "metadata": {},
   "outputs": [
    {
     "data": {
      "text/plain": [
       "(mass theball (quant 5 kilo gram))∧(ekin theball (quant 12 milli Newton))"
      ]
     },
     "metadata": {},
     "output_type": "display_data"
    },
    {
     "data": {
      "text/plain": [
       "(mass theball (quant 5 kilo gram))∧(ekin theball (quant 12 meter⋅Newton))"
      ]
     },
     "metadata": {},
     "output_type": "display_data"
    }
   ],
   "source": [
    "parse \"the ball has a mass of 5 k g and a kinetic energy of 12 m N\" | construct -v SemConstr"
   ]
  },
  {
   "cell_type": "markdown",
   "metadata": {},
   "source": [
    "### Dimensional Analysis with ELPI"
   ]
  },
  {
   "cell_type": "code",
   "execution_count": 11,
   "metadata": {},
   "outputs": [
    {
     "data": {
      "text/plain": [
       "Created dimAnalysis.elpi"
      ]
     },
     "metadata": {},
     "output_type": "display_data"
    }
   ],
   "source": [
    "elpi: dimAnalysis\n",
    "\n",
    "% SIGNATURE\n",
    "kind proposition type.\n",
    "kind object type.\n",
    "kind unit type.\n",
    "kind quantity type.\n",
    "type mult unit -> unit -> unit.\n",
    "type udiv unit -> unit -> unit.\n",
    "type quant int -> unit -> quantity.\n",
    "type and proposition -> proposition -> proposition.\n",
    "type ball object.\n",
    "type train object.\n",
    "type ekin object -> quantity -> proposition.\n",
    "type mass object -> quantity -> proposition.\n",
    "type newton unit.\n",
    "type gram unit.\n",
    "type meter unit.\n",
    "type milli unit -> unit.\n",
    "type kilo unit -> unit.\n",
    "\n",
    "\n",
    "% DIMENSIONALITY STUFF\n",
    "\n",
    "kind base_dimension type.\n",
    "type length_dim base_dimension.\n",
    "type mass_dim base_dimension.\n",
    "type time_dim base_dimension.\n",
    "\n",
    "kind dimension type.\n",
    "% complex dimension, e.g. (cdim [length_dim] [time_dim, time_dim]) for speed\n",
    "type cdim list base_dimension -> list base_dimension -> dimension.\n",
    "\n",
    "\n",
    "% removes first occurence\n",
    "type remove A -> list A -> list A -> prop.\n",
    "remove X [X|L] L :- !.\n",
    "remove X [H|L] [H|M] :- remove X L M.\n",
    "\n",
    "\n",
    "type simplify_dim dimension -> dimension -> prop.\n",
    "% TODO: std.mem! unnecessary\n",
    "simplify_dim (cdim A B) R :- std.mem! A X, std.mem! B X, !, remove X A A2, remove X B B2, simplify_dim (cdim A2 B2) R.\n",
    "simplify_dim (cdim A B) (cdim A B).\n",
    "\n",
    "\n",
    "% convert unit to dimension\n",
    "type utodim unit -> dimension -> prop.\n",
    "utodim (mult A B) (cdim N1 N2) :- utodim A (cdim L1 L2), utodim B (cdim M1 M2), std.append L1 M1 N1, std.append L2 M2 N2.\n",
    "utodim (udiv A B) (cdim N1 N2) :- utodim A (cdim L1 L2), utodim B (cdim M1 M2), std.append L1 M2 N1, std.append L2 M1 N2.\n",
    "utodim (milli X) Y :- utodim X Y.\n",
    "utodim (kilo X) Y :- utodim X Y.\n",
    "utodim newton (cdim [mass_dim, length_dim] [time_dim, time_dim]).\n",
    "% utodim joule (cdim [length_dim, mass_dim, length_dim] [time_dim, time_dim]).\n",
    "utodim gram (cdim [mass_dim] []).\n",
    "utodim meter (cdim [length_dim] []).\n",
    "\n",
    "type dim_eq dimension -> dimension -> prop.\n",
    "dim_eq (cdim [] []) (cdim [] []).\n",
    "% TODO: std.mem! unnecessary\n",
    "dim_eq (cdim L LL) (cdim M MM) :- std.mem! L X, std.mem! M X, remove X L L2, remove X M M2, dim_eq (cdim L2 LL) (cdim M2 MM).\n",
    "dim_eq (cdim [] L) (cdim [] M) :- std.mem! L X, std.mem! M X, remove X L L2, remove X M M2, dim_eq (cdim [] L2) (cdim [] M2).\n",
    "\n",
    "\n",
    "% check that quantity has specific dimension.\n",
    "type dimcheck quantity -> dimension -> prop.\n",
    "dimcheck (quant _ X) D :-\n",
    "    utodim X E, \n",
    "    simplify_dim D D2,\n",
    "    simplify_dim E E2,\n",
    "    dim_eq D2 E2, !.\n",
    "\n",
    "dimcheck (quant _ X) D :-\n",
    "    utodim X E, \n",
    "    simplify_dim E E2,\n",
    "    simplify_dim D D2,\n",
    "    dimstr D2 DS,\n",
    "    dimstr E2 ES,\n",
    "    print \"REJECTED:\" X \"has dimension\" ES \"but expected\" DS,\n",
    "    fail.\n",
    "\n",
    "\n",
    "% PRINTING\n",
    "\n",
    "% stringjoin \", \" [\"a\", \"b\", \"c\"] \"a, b, c\"\n",
    "type stringjoin string -> list string -> string -> prop.\n",
    "stringjoin _ [] \"\".\n",
    "stringjoin _ [S] S :- !.\n",
    "stringjoin Sep [H|T] S :- stringjoin Sep T S2, S is H ^ Sep ^ S2.\n",
    "\n",
    "type basedimstr base_dimension -> string -> prop.\n",
    "basedimstr length_dim \"length\".\n",
    "basedimstr mass_dim \"mass\".\n",
    "basedimstr time_dim \"time\".\n",
    "\n",
    "type halfdimstr list base_dimension -> string -> prop.\n",
    "halfdimstr X R :- std.map X (x \\ basedimstr x) XS, stringjoin \"*\" XS R.\n",
    "\n",
    "type dimstr dimension -> string -> prop.\n",
    "dimstr (cdim [A1|A] [B1,B2|B]) S :- !, halfdimstr [A1|A] AS, halfdimstr [B1,B2|B] BS, S is AS ^ \"/(\" ^ BS ^ \")\".\n",
    "dimstr (cdim [A1|A] [B1|B]) S :- !, halfdimstr [A1|A] AS, halfdimstr [B1|B] BS, S is AS ^ \"/\" ^ BS.\n",
    "dimstr (cdim [A1|A] []) S :- !, halfdimstr [A1|A] R, S is R.\n",
    "dimstr (cdim [] [B1|B]) S :- !, halfdimstr [B1|B] R, S is  \"1\" ^ \"/\" ^ R.\n",
    "dimstr (cdim [] []) S :- S is \"1\".\n",
    "\n",
    "type checkactual proposition -> prop.\n",
    "checkactual (and A B) :- checkactual A, checkactual B.\n",
    "checkactual (ekin _ Q) :- dimcheck Q (cdim [length_dim, length_dim, mass_dim] [time_dim, time_dim]).\n",
    "checkactual (mass _ Q) :- dimcheck Q (cdim [mass_dim] []).\n",
    "\n",
    "\n",
    "type check list string -> prop.\n",
    "check [X] :- print X, string_to_term X XT, checkactual XT, print \"ACCEPTED\"."
   ]
  },
  {
   "cell_type": "markdown",
   "metadata": {},
   "source": [
    "**The wrong reading is rejected**"
   ]
  },
  {
   "cell_type": "code",
   "execution_count": 12,
   "metadata": {},
   "outputs": [
    {
     "data": {
      "text/plain": [
       "state theball (toMeasurements (measure eKin 12 (milli newton)))"
      ]
     },
     "metadata": {},
     "output_type": "display_data"
    },
    {
     "data": {
      "text/plain": [
       "state theball (toMeasurements (measure eKin 12 (unitCombine meter newton)))"
      ]
     },
     "metadata": {},
     "output_type": "display_data"
    }
   ],
   "source": [
    "parse \"the ball has a kinetic energy of 12 m N\""
   ]
  },
  {
   "cell_type": "code",
   "execution_count": 13,
   "metadata": {},
   "outputs": [
    {
     "data": {
      "text/plain": [
       "(ekin ball (quant 12 (milli newton)))"
      ]
     },
     "metadata": {},
     "output_type": "display_data"
    },
    {
     "data": {
      "text/plain": [
       "(ekin ball (quant 12 (mult meter newton)))"
      ]
     },
     "metadata": {},
     "output_type": "display_data"
    }
   ],
   "source": [
    "parse \"the ball has a kinetic energy of 12 m N\" | construct -elpi"
   ]
  },
  {
   "cell_type": "code",
   "execution_count": 14,
   "metadata": {},
   "outputs": [
    {
     "data": {
      "text/plain": [
       "(ekin ball (quant 12 (milli newton)))\n",
       "REJECTED: milli newton has dimension mass*length/(time*time) but expected \n",
       " length*length*mass/(time*time)\n"
      ]
     },
     "metadata": {},
     "output_type": "display_data"
    },
    {
     "data": {
      "text/plain": [
       "(ekin ball (quant 12 (mult meter newton)))\n",
       "ACCEPTED\n"
      ]
     },
     "metadata": {},
     "output_type": "display_data"
    }
   ],
   "source": [
    "parse \"the ball has a kinetic energy of 12 m N\" | construct -elpi | elpi dimAnalysis check"
   ]
  },
  {
   "cell_type": "code",
   "execution_count": 15,
   "metadata": {},
   "outputs": [
    {
     "data": {
      "text/plain": [
       "(and (mass ball (quant 5 (kilo gram))) (ekin ball (quant 12 (milli newton))))\n",
       "REJECTED: milli newton has dimension mass*length/(time*time) but expected \n",
       " length*length*mass/(time*time)\n"
      ]
     },
     "metadata": {},
     "output_type": "display_data"
    },
    {
     "data": {
      "text/plain": [
       "(and (mass ball (quant 5 (kilo gram))) (ekin ball (quant 12 (mult meter newton))))\n",
       "ACCEPTED\n"
      ]
     },
     "metadata": {},
     "output_type": "display_data"
    }
   ],
   "source": [
    "parse -cat=S \"the ball has a mass of 5 k g and a kinetic energy of 12 m N\" | construct -elpi | elpi dimAnalysis check"
   ]
  }
 ],
 "metadata": {
  "kernelspec": {
   "display_name": "GLIF",
   "language": "gf",
   "name": "glif"
  },
  "language_info": {
   "codemirror_mode": {
    "name": "gf",
    "version": 3
   },
   "file_extension": ".gf",
   "mimetype": "text/gf",
   "name": "gf"
  }
 },
 "nbformat": 4,
 "nbformat_minor": 4
}
