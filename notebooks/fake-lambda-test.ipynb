{
 "cells": [
  {
   "cell_type": "markdown",
   "metadata": {},
   "source": [
    "# Fake Lambda Test\n",
    "\n",
    "**Problem**: Normally, when using quantifiers during the semantics construction, we simply introduce new variables from scratch.\n",
    "For example *every integer is even* becomes $\\forall x.\\text{even}(x)$.\n",
    "However, in mathematical text variables can be given explicit names:\n",
    "*for every integer n, n is even*.\n",
    "The *n* nodes in the parse tree are constants, which means that we need some special trick to convert them into variables.\n",
    "\n",
    "**Solution**: We create a \"fake lambda\", i.e. a function that has the signature of lambdas and binds constants.\n",
    "In the semantics construction process, the fake lambdas are replaced by real lambdas and constants get converted to variables.\n",
    "\n",
    "**Purpose of this notebook**: Test whether the fake lambda really solves the problem as we expected.\n"
   ]
  },
  {
   "cell_type": "code",
   "execution_count": 1,
   "metadata": {},
   "outputs": [
    {
     "data": {
      "text/plain": [
       "Changed to subdirectory fakelambda"
      ]
     },
     "metadata": {},
     "output_type": "display_data"
    },
    {
     "data": {
      "text/plain": [
       "Successfully reloaded GF"
      ]
     },
     "metadata": {},
     "output_type": "display_data"
    }
   ],
   "source": [
    "subdir fakelambda"
   ]
  },
  {
   "cell_type": "markdown",
   "metadata": {},
   "source": [
    "Here is how the theory looks like that creates fake lambdas: (the actual theory is in `COMMA/GLF`)"
   ]
  },
  {
   "cell_type": "code",
   "execution_count": 2,
   "metadata": {},
   "outputs": [
    {
     "data": {
      "text/plain": [
       "Created theory fakeLambda"
      ]
     },
     "metadata": {},
     "output_type": "display_data"
    }
   ],
   "source": [
    "theory fakeLambda : ur:?PLF =\n",
    "    fake_lambda : {a:type,b:type} a ⟶ b ⟶ (a ⟶ b) ❘ # λ 3 . 4 ❙\n",
    "❚"
   ]
  },
  {
   "cell_type": "code",
   "execution_count": 3,
   "metadata": {},
   "outputs": [
    {
     "data": {
      "text/plain": [
       "Defined Grammar"
      ]
     },
     "metadata": {},
     "output_type": "display_data"
    }
   ],
   "source": [
    "abstract Grammar = {\n",
    "    cat\n",
    "        CN; NP; VP; V2; S; Var;\n",
    "    fun\n",
    "        for_every : CN -> Var -> S -> S;\n",
    "        exists_sth : CN -> Var -> S -> S;\n",
    "        npvp : NP -> VP -> S;\n",
    "        v2np : V2 -> NP -> VP;\n",
    "        \n",
    "        some_cn : CN -> Var -> NP;\n",
    "        every_cn : CN -> Var -> NP;\n",
    "        \n",
    "        x, y : Var;\n",
    "        novar : Var;\n",
    "        integer : CN;\n",
    "        divide : V2;\n",
    "}"
   ]
  },
  {
   "cell_type": "code",
   "execution_count": 4,
   "metadata": {},
   "outputs": [],
   "source": [
    "concrete GrammarEng of Grammar = {\n",
    "  lincat\n",
    "    CN = Str ;\n",
    "    NP = Str ;\n",
    "    VP = Str ;\n",
    "    V2 = Str ;\n",
    "    S = Str ;\n",
    "    Var = Str ;\n",
    "\n",
    "  lin\n",
    "    for_every cn var s = \"for\" ++ \"every\" ++ cn ++ var;\n",
    "    exists_sth cn var s = \"there\" ++ \"is\" ++ \"an\" ++ cn ++ var;\n",
    "    npvp np vp = np ++ vp;\n",
    "    v2np v2 np = v2 ++ np;\n",
    "    some_cn cn var = \"some\" ++ cn ++ var ;\n",
    "    every_cn cn var = \"every\" ++ cn ++ var ;\n",
    "    x = \"X\" ;\n",
    "    y = \"Y\" ;\n",
    "    novar = \"\" ;\n",
    "    integer = \"integer\" ;\n",
    "    divide = \"divides\" ;\n",
    "}"
   ]
  },
  {
   "cell_type": "code",
   "execution_count": 5,
   "metadata": {},
   "outputs": [
    {
     "data": {
      "text/plain": [
       "for every integer X"
      ]
     },
     "metadata": {},
     "output_type": "display_data"
    },
    {
     "data": {
      "text/plain": [
       "for every integer X"
      ]
     },
     "metadata": {},
     "output_type": "display_data"
    },
    {
     "data": {
      "text/plain": [
       "every integer X divides some integer"
      ]
     },
     "metadata": {},
     "output_type": "display_data"
    },
    {
     "data": {
      "text/plain": [
       "every integer X divides every integer Y"
      ]
     },
     "metadata": {},
     "output_type": "display_data"
    },
    {
     "data": {
      "text/plain": [
       "for every integer Y"
      ]
     },
     "metadata": {},
     "output_type": "display_data"
    }
   ],
   "source": [
    "gr -number=5 | l"
   ]
  },
  {
   "cell_type": "code",
   "execution_count": 6,
   "metadata": {},
   "outputs": [
    {
     "data": {
      "text/plain": [
       "Created theory logic"
      ]
     },
     "metadata": {},
     "output_type": "display_data"
    }
   ],
   "source": [
    "theory logic : ur:?LF =\n",
    "    prop : type ❘ # o ❙\n",
    "    not : o ⟶ o ❘ # ¬ 1 prec 80 ❙\n",
    "    and : o ⟶ o ⟶ o ❘ # 1 ∧ 2 prec 70 ❙\n",
    "    or : o ⟶ o ⟶ o ❘ # 1 ∨ 2 prec 60 ❙\n",
    "    impl : o ⟶ o ⟶ o ❘ # 1 ⇒ 2 prec 50 ❙\n",
    "    equiv : o ⟶ o ⟶ o ❘ # 1 ⇔ 2 prec 40 ❙\n",
    "    \n",
    "    ind : type ❘ # ι ❙\n",
    "    forall : (ι ⟶ o) ⟶ o ❘ # ∀ 1 ❙\n",
    "    exists : (ι ⟶ o) ⟶ o ❘ # ∃ 1 ❙\n",
    "    \n",
    "    // fake_lambda : ι ⟶ o ⟶ (ι ⟶ o) ❘ # fλ 1 . 2 ❙\n",
    "    include ☞http://mathhub.info/COMMA/GLF?fakeLambda ❙\n",
    "❚"
   ]
  },
  {
   "cell_type": "code",
   "execution_count": 7,
   "metadata": {},
   "outputs": [
    {
     "data": {
      "text/plain": [
       "Created theory dt"
      ]
     },
     "metadata": {},
     "output_type": "display_data"
    }
   ],
   "source": [
    "theory dt : ?logic =\n",
    "    divide : ι ⟶ ι ⟶ o ❙\n",
    "    integer : ι ⟶ o ❙\n",
    "    xvar : ι ❙\n",
    "    yvar : ι ❙\n",
    "    novar : ι ❙\n",
    "❚"
   ]
  },
  {
   "cell_type": "code",
   "execution_count": 8,
   "metadata": {},
   "outputs": [
    {
     "data": {
      "text/plain": [
       "Created view GrammarSemantics"
      ]
     },
     "metadata": {},
     "output_type": "display_data"
    }
   ],
   "source": [
    "view GrammarSemantics : http://mathhub.info/comma/jupyter/fakelambda/Grammar.gf?Grammar -> ?dt =\n",
    "    CN = ι ⟶ o ❙\n",
    "    NP = (ι ⟶ o) ⟶ o ❙\n",
    "    VP = ι ⟶ o ❙\n",
    "    V2 = ι ⟶ ι ⟶ o ❙\n",
    "    S = o ❙\n",
    "    Var = ι ❙\n",
    "\n",
    "    for_every = [cn, var, s] ∀ λ var . (cn var) ⇒ s ❙\n",
    "    exists_sth = [cn, var, s] ∃ λ var . (cn var) ∧ s ❙\n",
    "    npvp = [np,vp] np vp ❙\n",
    "    v2np = [v2,np] [x] np (v2 x) ❙\n",
    "    some_cn = [cn,var] [p] ∃ λ var . (cn var) ∧ (p var) ❙\n",
    "    every_cn = [cn,var] [p] ∀ λ var . (cn var) ⇒ (p var) ❙\n",
    "    x = xvar ❙\n",
    "    y = yvar ❙\n",
    "    novar = novar ❙\n",
    "    integer = integer ❙\n",
    "    divide = divide ❙\n",
    "❚"
   ]
  },
  {
   "cell_type": "code",
   "execution_count": 9,
   "metadata": {},
   "outputs": [
    {
     "data": {
      "text/plain": [
       "npvp (every_cn integer x) (v2np divide (some_cn integer novar))"
      ]
     },
     "metadata": {},
     "output_type": "display_data"
    }
   ],
   "source": [
    "p \"every integer X divides some integer\""
   ]
  },
  {
   "cell_type": "code",
   "execution_count": 10,
   "metadata": {},
   "outputs": [
    {
     "data": {
      "text/plain": [
       "∀[xvar:ι](integer xvar)⇒∃[novar:ι](integer novar)∧(divide xvar novar)"
      ]
     },
     "metadata": {},
     "output_type": "display_data"
    }
   ],
   "source": [
    "p \"every integer X divides some integer\" | construct"
   ]
  }
 ],
 "metadata": {
  "kernelspec": {
   "display_name": "GLIF",
   "language": "gf",
   "name": "glif"
  },
  "language_info": {
   "codemirror_mode": {
    "name": "gf",
    "version": 3
   },
   "file_extension": ".gf",
   "mimetype": "text/gf",
   "name": "gf"
  }
 },
 "nbformat": 4,
 "nbformat_minor": 4
}
