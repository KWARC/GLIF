{
 "cells": [
  {
   "cell_type": "markdown",
   "metadata": {},
   "source": [
    "# Empty Set (GlForTheL Demo)\n",
    "\n",
    "This is a demo for our efforts to re-implement the ForTheL language in GLF.\n",
    "It simply applies the parsing and semantics construction to the propositions and definitions in an example document, which is\n",
    "from [http://nevidal.org/cgi-bin/sad.cgi?ty=txt&ln=en&link=small/emptyset.ftl](http://nevidal.org/cgi-bin/sad.cgi?ty=txt&ln=en&link=small/emptyset.ftl):\n",
    "\n",
    "```\n",
    "[set/-s] [element/-s] [belong/-s] [subset/-s]\n",
    "\n",
    "Signature SetSort.  A set is a notion.\n",
    "Let S,T denote sets.\n",
    "\n",
    "Signature ElmSort.  An element of S is a notion.\n",
    "Let x belongs to X stand for x is an element of X.\n",
    "\n",
    "Definition DefSubset.   A subset of S is a set T\n",
    "    such that every element of T belongs to S.\n",
    "\n",
    "Definition DefEmpty.    S is empty iff S has no elements.\n",
    "\n",
    "Axiom ExEmpty.  There exists an empty set.\n",
    "\n",
    "Proposition.\n",
    "    S is a subset of every set iff S is empty.\n",
    "Proof.\n",
    "    Case S is empty. Obvious.\n",
    "\n",
    "    Case S is a subset of every set.\n",
    "        Take an empty set E.\n",
    "        Let z be an element of S.\n",
    "        Then z is an element of E.\n",
    "        We have a contradiction.\n",
    "    end.\n",
    "qed.\n",
    "```\n",
    "\n",
    "Note the GlForTheL repository comes with a script for preprocessing the file and applying the parsing and semantics construction automatically.\n",
    "Also note that (at least for now) proofs are omitted.\n",
    "\n",
    "The goal of the GlForTheL project is to learn about controlled mathematical languages and how GLIF can handle different challenge.\n",
    "More work would be needed for complete coverage over ForTheL, and some design decisions (such as requiring correct grammar) prevent complete coverage of ForTheL.\n",
    "Also, the lexicon is currently hand-written to cover a few examples."
   ]
  },
  {
   "cell_type": "markdown",
   "metadata": {},
   "source": [
    "### Setup"
   ]
  },
  {
   "cell_type": "code",
   "execution_count": 1,
   "metadata": {},
   "outputs": [
    {
     "data": {
      "text/plain": [
       "Changed to archive COMMA/forthel"
      ]
     },
     "metadata": {},
     "output_type": "display_data"
    },
    {
     "data": {
      "text/plain": [
       "Successfully reloaded GF"
      ]
     },
     "metadata": {},
     "output_type": "display_data"
    }
   ],
   "source": [
    "archive COMMA/forthel"
   ]
  },
  {
   "cell_type": "code",
   "execution_count": 2,
   "metadata": {},
   "outputs": [
    {
     "data": {
      "text/plain": [
       "success"
      ]
     },
     "metadata": {},
     "output_type": "display_data"
    }
   ],
   "source": [
    "import english/ForthelEng.gf"
   ]
  },
  {
   "cell_type": "markdown",
   "metadata": {},
   "source": [
    "### Main Document"
   ]
  },
  {
   "cell_type": "code",
   "execution_count": 3,
   "metadata": {},
   "outputs": [
    {
     "data": {
      "text/plain": [
       "notionSigNotion (pcNoun2NotionHead (rNoun02pcNoun set_RN0))"
      ]
     },
     "metadata": {},
     "output_type": "display_data"
    }
   ],
   "source": [
    "parse -cat=SignatureStatement \"a set is a notion\""
   ]
  },
  {
   "cell_type": "code",
   "execution_count": 4,
   "metadata": {},
   "outputs": [
    {
     "data": {
      "text/plain": [
       "letAssume (appendName (var2Names var_S) var_T) (pcNoun2CNoun (rNoun02pcNoun set_RN0))"
      ]
     },
     "metadata": {},
     "output_type": "display_data"
    }
   ],
   "source": [
    "parse -cat=Assume \"let S , T denote sets\""
   ]
  },
  {
   "cell_type": "code",
   "execution_count": 5,
   "metadata": {},
   "outputs": [
    {
     "data": {
      "text/plain": [
       "notionSigNotion (pcNoun2NotionHead (rNoun12pcNoun (rnp02PRNoun1 elementof_RNP0) (dtToTerm (stToDefiniteTerm (varToSymbTerm var_S)))))"
      ]
     },
     "metadata": {},
     "output_type": "display_data"
    }
   ],
   "source": [
    "parse -cat=SignatureStatement \"an element of S is a notion\""
   ]
  },
  {
   "cell_type": "code",
   "execution_count": 6,
   "metadata": {},
   "outputs": [
    {
     "data": {
      "text/plain": [
       "(belongTo V_x V_X)⇔(elementof V_x V_X)"
      ]
     },
     "metadata": {},
     "output_type": "display_data"
    }
   ],
   "source": [
    "parse -cat=NotationIntroduction \"let x belongs to X stand for x is an element of X\" | construct -v semantics/forthelUnsortedSem"
   ]
  },
  {
   "cell_type": "code",
   "execution_count": 7,
   "metadata": {},
   "outputs": [
    {
     "data": {
      "text/plain": [
       "∀[V_T:ι](subset V_T V_S)⇔(set V_T)∧∀[V_new:ι](elementof V_new V_T)∧⊤⇒(belongTo V_new V_S)∧⊤"
      ]
     },
     "metadata": {},
     "output_type": "display_data"
    }
   ],
   "source": [
    "parse -cat=DefinitionStatement \"a subset of S is a set T such that every element of T belongs to S\" | construct -v semantics/forthelUnsortedSem"
   ]
  },
  {
   "cell_type": "code",
   "execution_count": 8,
   "metadata": {},
   "outputs": [
    {
     "data": {
      "text/plain": [
       "∃[V_new:ι]((empty V_new)∧(set V_new))∧⊤"
      ]
     },
     "metadata": {},
     "output_type": "display_data"
    }
   ],
   "source": [
    "parse -cat=Statement \"there exists an empty set\" | construct -v semantics/forthelUnsortedSem"
   ]
  },
  {
   "cell_type": "code",
   "execution_count": 9,
   "metadata": {},
   "outputs": [
    {
     "data": {
      "text/plain": [
       "(∀[V_new:ι](set V_new)∧⊤⇒(subset V_S V_new)∧⊤)⇔(empty V_S)"
      ]
     },
     "metadata": {},
     "output_type": "display_data"
    }
   ],
   "source": [
    "parse -cat=Statement \"S is a subset of every set iff S is empty\" | construct -v semantics/forthelUnsortedSem"
   ]
  },
  {
   "cell_type": "markdown",
   "metadata": {},
   "source": [
    "### Further Experiments"
   ]
  },
  {
   "cell_type": "code",
   "execution_count": 10,
   "metadata": {},
   "outputs": [
    {
     "data": {
      "text/plain": [
       "∃[V_Y:ι]∃[V_X:ι]((set V_Y)∧∀[V_new:ι](elementof V_new V_X)∧⊤⇒(elementof V_new V_Y)∧⊤)∧(((set V_X)∧∀[V_new:ι](elementof V_new V_X)∧⊤⇒(elementof V_new V_Y)∧⊤)∧⊤)"
      ]
     },
     "metadata": {},
     "output_type": "display_data"
    }
   ],
   "source": [
    "parse -cat=Statement \"there are sets X , Y such that every element of X is an element of Y\" | construct -v semantics/forthelUnsortedSem"
   ]
  },
  {
   "cell_type": "code",
   "execution_count": 11,
   "metadata": {},
   "outputs": [
    {
     "data": {
      "application/vnd.jupyter.widget-view+json": {
       "model_id": "b4e8eed2b8cb49d38f5b7716c4025a6e",
       "version_major": 2,
       "version_minor": 0
      },
      "text/plain": [
       "Image(value=b'\\x89PNG\\r\\n\\x1a\\n\\x00\\x00\\x00\\rIHDR\\x00\\x00\\x05\\xb9\\x00\\x00\\x04\\xbb\\x08\\x06\\x00\\x00\\x00\\xbc}\\xb7…"
      ]
     },
     "metadata": {},
     "output_type": "display_data"
    }
   ],
   "source": [
    "parse -cat=Statement \"there are sets X , Y such that every element of X is an element of Y\" | vt | show"
   ]
  },
  {
   "cell_type": "markdown",
   "metadata": {},
   "source": [
    "**Statements and definitions are parsed differently**"
   ]
  },
  {
   "cell_type": "code",
   "execution_count": 12,
   "metadata": {},
   "outputs": [
    {
     "data": {
      "application/vnd.jupyter.widget-view+json": {
       "model_id": "b638e993d9344152982f62d1eee1333d",
       "version_major": 2,
       "version_minor": 0
      },
      "text/plain": [
       "Image(value=b'\\x89PNG\\r\\n\\x1a\\n\\x00\\x00\\x00\\rIHDR\\x00\\x00\\x06\\xfb\\x00\\x00\\x02\\x1b\\x08\\x06\\x00\\x00\\x00\\xc5\\x1c\"…"
      ]
     },
     "metadata": {},
     "output_type": "display_data"
    }
   ],
   "source": [
    "parse -cat=Statement \"S is empty iff S has no elements\" | view_tree | show"
   ]
  },
  {
   "cell_type": "code",
   "execution_count": 13,
   "metadata": {},
   "outputs": [
    {
     "data": {
      "text/plain": [
       "(empty V_S)⇔¬∃[V_new:ι](elementof V_new V_S)∧⊤"
      ]
     },
     "metadata": {},
     "output_type": "display_data"
    }
   ],
   "source": [
    "parse -cat=Statement \"S is empty iff S has no elements\" | construct"
   ]
  },
  {
   "cell_type": "code",
   "execution_count": 14,
   "metadata": {},
   "outputs": [
    {
     "data": {
      "text/plain": [
       "∀[V_S:ι](empty V_S)⇔¬∃[V_new:ι](elementof V_new V_S)∧⊤"
      ]
     },
     "metadata": {},
     "output_type": "display_data"
    }
   ],
   "source": [
    "parse -cat=DefinitionStatement \"S is empty iff S has no elements\" | construct"
   ]
  },
  {
   "cell_type": "markdown",
   "metadata": {},
   "source": [
    "Just for fun, here are some randomly generated mathematical sentences"
   ]
  },
  {
   "cell_type": "code",
   "execution_count": 15,
   "metadata": {},
   "outputs": [
    {
     "data": {
      "text/plain": [
       "if there exists a integer then there exists a nonzero integer"
      ]
     },
     "metadata": {},
     "output_type": "display_data"
    },
    {
     "data": {
      "text/plain": [
       "the empty set hasn't no subset and there exists a empty element"
      ]
     },
     "metadata": {},
     "output_type": "display_data"
    },
    {
     "data": {
      "text/plain": [
       "s has a element G"
      ]
     },
     "metadata": {},
     "output_type": "display_data"
    },
    {
     "data": {
      "text/plain": [
       "the zero hasn't a element"
      ]
     },
     "metadata": {},
     "output_type": "display_data"
    },
    {
     "data": {
      "text/plain": [
       "there exists a empty element that converges"
      ]
     },
     "metadata": {},
     "output_type": "display_data"
    },
    {
     "data": {
      "text/plain": [
       "there exists a relation t or there exists a relation"
      ]
     },
     "metadata": {},
     "output_type": "display_data"
    },
    {
     "data": {
      "text/plain": [
       "there exists a empty number M that doesn't converges"
      ]
     },
     "metadata": {},
     "output_type": "display_data"
    },
    {
     "data": {
      "text/plain": [
       "there exists a empty set h"
      ]
     },
     "metadata": {},
     "output_type": "display_data"
    },
    {
     "data": {
      "text/plain": [
       "there exists a element that hasn't no element"
      ]
     },
     "metadata": {},
     "output_type": "display_data"
    },
    {
     "data": {
      "text/plain": [
       "there exist nonzero numbers r , P that have no element"
      ]
     },
     "metadata": {},
     "output_type": "display_data"
    },
    {
     "data": {
      "text/plain": [
       "there exists a nonzero integer c or R isn't empty"
      ]
     },
     "metadata": {},
     "output_type": "display_data"
    },
    {
     "data": {
      "text/plain": [
       "there exist elements n , X or there exist nonzero numbers L , F"
      ]
     },
     "metadata": {},
     "output_type": "display_data"
    },
    {
     "data": {
      "text/plain": [
       "there exist nonzero numbers j , A iff there exists a element"
      ]
     },
     "metadata": {},
     "output_type": "display_data"
    },
    {
     "data": {
      "text/plain": [
       "there exists a integer iff there exists a nonzero relation"
      ]
     },
     "metadata": {},
     "output_type": "display_data"
    },
    {
     "data": {
      "text/plain": [
       "D is empty and O converges"
      ]
     },
     "metadata": {},
     "output_type": "display_data"
    }
   ],
   "source": [
    "gr -number=15 -depth=5 | l"
   ]
  },
  {
   "cell_type": "code",
   "execution_count": 16,
   "metadata": {},
   "outputs": [
    {
     "data": {
      "text/plain": [
       "(∃[V_new:ι]((empty V_new)∧(number V_new))∧⊤)∧(converge V_i)"
      ]
     },
     "metadata": {},
     "output_type": "display_data"
    },
    {
     "data": {
      "text/plain": [
       "¬¬∃[V_n:ι](subset V_n zero)∧⊤⇒¬(relation zero)"
      ]
     },
     "metadata": {},
     "output_type": "display_data"
    },
    {
     "data": {
      "text/plain": [
       "(∃[V_G:ι](subset V_G V_S)∧⊤)⇔¬(empty zero)"
      ]
     },
     "metadata": {},
     "output_type": "display_data"
    },
    {
     "data": {
      "text/plain": [
       "(∃[V_new:ι](relation V_new)∧⊤)∨(integer V_l)"
      ]
     },
     "metadata": {},
     "output_type": "display_data"
    },
    {
     "data": {
      "text/plain": [
       "∃[V_new:ι]((set V_new)∧¬(relation V_new))∧⊤"
      ]
     },
     "metadata": {},
     "output_type": "display_data"
    },
    {
     "data": {
      "text/plain": [
       "(∃[V_new:ι]((nonzero V_new)∧(element V_new))∧⊤)∨∃[V_D:ι](set V_D)∧⊤"
      ]
     },
     "metadata": {},
     "output_type": "display_data"
    },
    {
     "data": {
      "text/plain": [
       "(∃[V_new:ι]((nonzero V_new)∧(integer V_new))∧⊤)⇔¬(nonzero V_n)"
      ]
     },
     "metadata": {},
     "output_type": "display_data"
    },
    {
     "data": {
      "text/plain": [
       "(converge V_A)∧∃[V_D:ι]∃[V_e:ι]((nonzero V_D)∧(integer V_D))∧(((nonzero V_e)∧(integer V_e))∧⊤)"
      ]
     },
     "metadata": {},
     "output_type": "display_data"
    },
    {
     "data": {
      "text/plain": [
       "(∃[V_new:ι]((empty V_new)∧(element V_new))∧⊤)∨¬∃[V_k:ι](elementof V_k zero)∧⊤"
      ]
     },
     "metadata": {},
     "output_type": "display_data"
    },
    {
     "data": {
      "text/plain": [
       "¬(number V_U)∨¬(converge emptySet)"
      ]
     },
     "metadata": {},
     "output_type": "display_data"
    },
    {
     "data": {
      "text/plain": [
       "∃[V_U:ι](((nonzero V_U)∧(element V_U))∧¬(number V_U))∧⊤"
      ]
     },
     "metadata": {},
     "output_type": "display_data"
    },
    {
     "data": {
      "text/plain": [
       "converge V_h"
      ]
     },
     "metadata": {},
     "output_type": "display_data"
    },
    {
     "data": {
      "text/plain": [
       "¬(nonzero V_A)⇒∃[V_D:ι](integer V_D)∧⊤"
      ]
     },
     "metadata": {},
     "output_type": "display_data"
    },
    {
     "data": {
      "text/plain": [
       "∃[V_O:ι]∃[V_l:ι]∃[V_n:ι](((empty V_O)∧(set V_O))∧¬¬∃[V_new:ι](subset V_new V_O)∧⊤)∧((((empty V_l)∧(set V_l))∧¬¬∃[V_new:ι](subset V_new V_l)∧⊤)∧((((empty V_n)∧(set V_n))∧¬¬∃[V_new:ι](subset V_new V_n)∧⊤)∧⊤))"
      ]
     },
     "metadata": {},
     "output_type": "display_data"
    },
    {
     "data": {
      "text/plain": [
       "(∃[V_new:ι]((nonzero V_new)∧(integer V_new))∧⊤)⇔∃[V_M:ι]∃[V_C:ι](integer V_M)∧((integer V_C)∧⊤)"
      ]
     },
     "metadata": {},
     "output_type": "display_data"
    }
   ],
   "source": [
    "gr -cat=Statement -number=15 -depth=5 | construct"
   ]
  }
 ],
 "metadata": {
  "kernelspec": {
   "display_name": "GLIF",
   "language": "gf",
   "name": "glif"
  },
  "language_info": {
   "codemirror_mode": {
    "name": "gf",
    "version": 3
   },
   "file_extension": ".gf",
   "mimetype": "text/gf",
   "name": "gf"
  }
 },
 "nbformat": 4,
 "nbformat_minor": 4
}
