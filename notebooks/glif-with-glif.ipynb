{
 "cells": [
  {
   "cell_type": "markdown",
   "metadata": {},
   "source": [
    "## GLIF in Jupyter\n",
    "\n",
    "Before reading this, you should have a look at the introductory notebooks `gf-with-glif` and `mmt-with-glif`."
   ]
  },
  {
   "cell_type": "code",
   "execution_count": 9,
   "metadata": {},
   "outputs": [
    {
     "data": {
      "text/plain": [
       "Changed to archive comma/jupyter"
      ]
     },
     "metadata": {},
     "output_type": "display_data"
    },
    {
     "data": {
      "text/plain": [
       "Changed to subdirectory glif-with-glif"
      ]
     },
     "metadata": {},
     "output_type": "display_data"
    }
   ],
   "source": [
    "archive comma/jupyter\n",
    "subdir glif-with-glif"
   ]
  },
  {
   "cell_type": "markdown",
   "metadata": {},
   "source": [
    "### Entering the Grammar\n",
    "\n",
    "When you enter abstract syntaxes, they are automatically imported into MMT.\n",
    "For example, the following abstract syntax generates the theory `http://mathhub.info/comma/jupyter/glif-with-glif/Grammar.gf?Grammar`."
   ]
  },
  {
   "cell_type": "code",
   "execution_count": 10,
   "metadata": {},
   "outputs": [
    {
     "data": {
      "text/plain": [
       "Defined Grammar"
      ]
     },
     "metadata": {},
     "output_type": "display_data"
    }
   ],
   "source": [
    "abstract Grammar = {\n",
    "    cat\n",
    "        Person ; Action ; Sentence ;\n",
    "\n",
    "    fun\n",
    "        john, mary : Person ;\n",
    "        run, be_happy : Action ;\n",
    "        make_sentence : Person -> Action -> Sentence ;\n",
    "        and : Sentence -> Sentence -> Sentence ;\n",
    "}"
   ]
  },
  {
   "cell_type": "code",
   "execution_count": 11,
   "metadata": {},
   "outputs": [],
   "source": [
    "concrete GrammarEng of Grammar = {\n",
    "    lincat\n",
    "        Person = Str ;\n",
    "        Action = Str ;\n",
    "        Sentence = Str ;\n",
    "    lin\n",
    "        john = \"John\" ;\n",
    "        mary = \"Mary\" ;\n",
    "        run = \"runs\" ;\n",
    "        be_happy = \"is happy\" ;\n",
    "        make_sentence person action = person ++ action ;\n",
    "        and a b = a ++ \"and\" ++ b ;\n",
    "}"
   ]
  },
  {
   "cell_type": "markdown",
   "metadata": {},
   "source": [
    "### Entering Target logic and Domain Theory"
   ]
  },
  {
   "cell_type": "code",
   "execution_count": 14,
   "metadata": {},
   "outputs": [
    {
     "data": {
      "text/plain": [
       "Created theory Logic"
      ]
     },
     "metadata": {},
     "output_type": "display_data"
    }
   ],
   "source": [
    "theory Logic : ur:?LF =\n",
    "    o : type ❙\n",
    "    ι : type ❙\n",
    "    and : o ⟶ o ⟶ o ❘ # 1 ∧ 2 ❙\n",
    "❚"
   ]
  },
  {
   "cell_type": "code",
   "execution_count": 15,
   "metadata": {},
   "outputs": [
    {
     "data": {
      "text/plain": [
       "Created theory DomainTheory"
      ]
     },
     "metadata": {},
     "output_type": "display_data"
    }
   ],
   "source": [
    "theory DomainTheory : ?Logic =\n",
    "    john : ι ❙\n",
    "    mary : ι ❙\n",
    "    run : ι ⟶ o ❙\n",
    "    happy : ι ⟶ o ❙\n",
    "❚"
   ]
  },
  {
   "cell_type": "markdown",
   "metadata": {},
   "source": [
    "### Entering view for Semantics Construction\n",
    "\n",
    "**Tip**: You can generate a stub by entering `GrammarSemantics` and pressing Tab."
   ]
  },
  {
   "cell_type": "code",
   "execution_count": 19,
   "metadata": {},
   "outputs": [
    {
     "data": {
      "text/plain": [
       "Created view GrammarSemantics"
      ]
     },
     "metadata": {},
     "output_type": "display_data"
    }
   ],
   "source": [
    "view GrammarSemantics : http://mathhub.info/comma/jupyter/glif-with-glif/Grammar.gf?Grammar -> ?DomainTheory =\n",
    "    Person = ι ❙\n",
    "    Action = ι ⟶ o ❙\n",
    "    Sentence = o ❙\n",
    "\n",
    "    john = john ❙\n",
    "    mary = mary ❙\n",
    "    run = run ❙\n",
    "    be_happy = happy ❙\n",
    "    make_sentence = [p,a] a p ❙\n",
    "    and = [a,b] a ∧ b ❙\n",
    "❚"
   ]
  },
  {
   "cell_type": "markdown",
   "metadata": {},
   "source": [
    "### Putting it together\n",
    "\n",
    "The `construct` command applies the semantics construction to a term.\n",
    "The easiest way of using it is to simply pipe the output of a `parse` command into the `construct` command.\n",
    "If there are several views, you can specify the semantics construction view with the `-v` option."
   ]
  },
  {
   "cell_type": "code",
   "execution_count": 22,
   "metadata": {},
   "outputs": [
    {
     "data": {
      "text/plain": [
       "(run john)∧(happy mary)"
      ]
     },
     "metadata": {},
     "output_type": "display_data"
    }
   ],
   "source": [
    "parse -cat=Sentence \"John runs and Mary is happy\" | construct -v GrammarSemantics"
   ]
  }
 ],
 "metadata": {
  "kernelspec": {
   "display_name": "GLIF",
   "language": "gf",
   "name": "glif"
  },
  "language_info": {
   "codemirror_mode": {
    "name": "gf",
    "version": 3
   },
   "file_extension": ".gf",
   "mimetype": "text/gf",
   "name": "gf"
  }
 },
 "nbformat": 4,
 "nbformat_minor": 4
}
