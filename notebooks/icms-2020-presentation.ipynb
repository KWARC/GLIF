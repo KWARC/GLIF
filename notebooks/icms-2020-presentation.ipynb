{
 "cells": [
  {
   "cell_type": "markdown",
   "metadata": {},
   "source": [
    "# Prototyping Controlled Mathematical Languages in Jupyter Notebooks\n",
    "\n",
    "**Presentation for ICMS 2020**\n",
    "\n",
    "\n",
    "## Initial Remarks\n",
    "\n",
    "This notebooks contains the core part of the presentation and shows off the various features of the Jupyter kernel with a minimal example.\n",
    "The recorded presentation also briefly shows other notebooks for more complex examples and contains some (LaTeX) slides for the introduction and conclusion.\n",
    "Below is an alternative introduction.\n",
    "\n",
    "## Alternative Introduction\n",
    "\n",
    "A *controlled mathematical language* is a formal language (with fixed semantics) that imitates natural language.\n",
    "They could be used to decrease the barrier of entry to users of mathematical software.\n",
    "We believe that this is rarely done in practice because designing such languages is very challenging.\n",
    "We also believe that the Grammatical Logical Framework (GLF) can be used to prototype such languages and present a new Jupyter interface for GLF.\n",
    "\n",
    "#### What is GLF?\n",
    "GLF combines two existing frameworks:\n",
    "* GF (the Grammatical Framework), which is a great tool for developing natural language grammars,\n",
    "* and MMT, which can be used for logic development.\n",
    "\n",
    "Together, they allow us to specify a language-to-logic pipeline by describing\n",
    "\n",
    "* A grammar\n",
    "* A target logic\n",
    "* A semantics construction (which maps abstract syntax trees to logical expressions)\n",
    "\n",
    "#### What does the kernel do?\n",
    "\n",
    "It starts GF and MMT in the background.\n",
    "Pattern matching is used to distinguish different types of contents:\n",
    "* GF grammar modules are written to files and imported into the GF shell\n",
    "* MMT content is also written to files and gets built\n",
    "* Commands are either handed to the GF shell or are handled directly by the kernel"
   ]
  },
  {
   "cell_type": "markdown",
   "metadata": {},
   "source": [
    "### Part 1: Grammar"
   ]
  },
  {
   "cell_type": "markdown",
   "metadata": {
    "slideshow": {
     "slide_type": "slide"
    }
   },
   "source": [
    "#### Abstract Syntax"
   ]
  },
  {
   "cell_type": "code",
   "execution_count": 21,
   "metadata": {},
   "outputs": [
    {
     "data": {
      "text/plain": [
       "Defined MiniGrammar"
      ]
     },
     "metadata": {},
     "output_type": "display_data"
    }
   ],
   "source": [
    "abstract MiniGrammar = {\n",
    "    cat\n",
    "        Question; Term;\n",
    "    fun\n",
    "        askTerm  : Term -> Question;\n",
    "        intTerm  : Int  -> Term;\n",
    "        multiply : Term -> Term -> Term;\n",
    "}"
   ]
  },
  {
   "cell_type": "code",
   "execution_count": 22,
   "metadata": {},
   "outputs": [
    {
     "data": {
      "text/plain": [
       "askTerm (intTerm 999)"
      ]
     },
     "metadata": {},
     "output_type": "display_data"
    }
   ],
   "source": [
    "generate_random -cat=Question"
   ]
  },
  {
   "cell_type": "markdown",
   "metadata": {
    "slideshow": {
     "slide_type": "slide"
    }
   },
   "source": [
    "#### Concrete Syntax\n",
    "\n",
    "Describes mapping to strings. Enter `MiniGrammarEng` and press <kbd>Tab</kbd> for stub generation."
   ]
  },
  {
   "cell_type": "code",
   "execution_count": 23,
   "metadata": {},
   "outputs": [
    {
     "data": {
      "text/plain": [
       "Input is neither valid GF or MMT content nor a valid shell command!"
      ]
     },
     "metadata": {},
     "output_type": "display_data"
    }
   ],
   "source": [
    "MiniGrammarEng"
   ]
  },
  {
   "cell_type": "code",
   "execution_count": 24,
   "metadata": {
    "slideshow": {
     "slide_type": "subslide"
    }
   },
   "outputs": [],
   "source": [
    "concrete MiniGrammarEng of MiniGrammar = {\n",
    "    lincat\n",
    "        Question = Str;\n",
    "        Term = Str;\n",
    "    lin\n",
    "        askTerm t = \"what is\" ++ t;\n",
    "        intTerm i = i.s;\n",
    "        multiply a b = a ++ \"*\" ++ b;\n",
    "}"
   ]
  },
  {
   "cell_type": "code",
   "execution_count": 25,
   "metadata": {},
   "outputs": [
    {
     "data": {
      "text/plain": [
       "askTerm (multiply (intTerm 2) (intTerm 3))"
      ]
     },
     "metadata": {},
     "output_type": "display_data"
    }
   ],
   "source": [
    "parse -cat=Question \"what is 2 * 3\""
   ]
  },
  {
   "cell_type": "markdown",
   "metadata": {
    "slideshow": {
     "slide_type": "slide"
    }
   },
   "source": [
    "#### Concatenating Commands"
   ]
  },
  {
   "cell_type": "code",
   "execution_count": 26,
   "metadata": {},
   "outputs": [
    {
     "data": {
      "text/plain": [
       "askTerm (intTerm 999)"
      ]
     },
     "metadata": {},
     "output_type": "display_data"
    }
   ],
   "source": [
    "generate_random -cat=Question -depth=3"
   ]
  },
  {
   "cell_type": "code",
   "execution_count": 27,
   "metadata": {},
   "outputs": [
    {
     "data": {
      "text/plain": [
       "what is 999 * 999"
      ]
     },
     "metadata": {},
     "output_type": "display_data"
    }
   ],
   "source": [
    "linearize askTerm (multiply (intTerm 999) (intTerm 999))"
   ]
  },
  {
   "cell_type": "code",
   "execution_count": 28,
   "metadata": {},
   "outputs": [
    {
     "data": {
      "text/plain": [
       "what is 999"
      ]
     },
     "metadata": {},
     "output_type": "display_data"
    },
    {
     "data": {
      "text/plain": [
       "what is 999"
      ]
     },
     "metadata": {},
     "output_type": "display_data"
    },
    {
     "data": {
      "text/plain": [
       "what is 999 * 999"
      ]
     },
     "metadata": {},
     "output_type": "display_data"
    },
    {
     "data": {
      "text/plain": [
       "what is 999 * 999"
      ]
     },
     "metadata": {},
     "output_type": "display_data"
    },
    {
     "data": {
      "text/plain": [
       "what is 999 * 999"
      ]
     },
     "metadata": {},
     "output_type": "display_data"
    }
   ],
   "source": [
    "generate_random -cat=Question -depth=3 -number=5 | linearize"
   ]
  },
  {
   "cell_type": "markdown",
   "metadata": {
    "slideshow": {
     "slide_type": "subslide"
    }
   },
   "source": [
    "#### Visualization Trees"
   ]
  },
  {
   "cell_type": "code",
   "execution_count": 29,
   "metadata": {},
   "outputs": [
    {
     "data": {
      "text/plain": [
       "graph {"
      ]
     },
     "metadata": {},
     "output_type": "display_data"
    },
    {
     "data": {
      "text/plain": [
       "n0[label = \"askTerm : Question\", style = \"solid\", shape = \"plaintext\"] ;"
      ]
     },
     "metadata": {},
     "output_type": "display_data"
    },
    {
     "data": {
      "text/plain": [
       "n0_0[label = \"multiply : Term\", style = \"solid\", shape = \"plaintext\"] ;"
      ]
     },
     "metadata": {},
     "output_type": "display_data"
    },
    {
     "data": {
      "text/plain": [
       "n0 -- n0_0 [style = \"solid\"];"
      ]
     },
     "metadata": {},
     "output_type": "display_data"
    },
    {
     "data": {
      "text/plain": [
       "n0_0_0[label = \"intTerm : Term\", style = \"solid\", shape = \"plaintext\"] ;"
      ]
     },
     "metadata": {},
     "output_type": "display_data"
    },
    {
     "data": {
      "text/plain": [
       "n0_0 -- n0_0_0 [style = \"solid\"];"
      ]
     },
     "metadata": {},
     "output_type": "display_data"
    },
    {
     "data": {
      "text/plain": [
       "n0_0_0_0[label = \"2\", style = \"solid\", shape = \"plaintext\"] ;"
      ]
     },
     "metadata": {},
     "output_type": "display_data"
    },
    {
     "data": {
      "text/plain": [
       "n0_0_0 -- n0_0_0_0 [style = \"solid\"];"
      ]
     },
     "metadata": {},
     "output_type": "display_data"
    },
    {
     "data": {
      "text/plain": [
       "n1_0_0[label = \"intTerm : Term\", style = \"solid\", shape = \"plaintext\"] ;"
      ]
     },
     "metadata": {},
     "output_type": "display_data"
    },
    {
     "data": {
      "text/plain": [
       "n0_0 -- n1_0_0 [style = \"solid\"];"
      ]
     },
     "metadata": {},
     "output_type": "display_data"
    },
    {
     "data": {
      "text/plain": [
       "n0_1_0_0[label = \"3\", style = \"solid\", shape = \"plaintext\"] ;"
      ]
     },
     "metadata": {},
     "output_type": "display_data"
    },
    {
     "data": {
      "text/plain": [
       "n1_0_0 -- n0_1_0_0 [style = \"solid\"];"
      ]
     },
     "metadata": {},
     "output_type": "display_data"
    },
    {
     "data": {
      "text/plain": [
       "}"
      ]
     },
     "metadata": {},
     "output_type": "display_data"
    }
   ],
   "source": [
    "vt askTerm (multiply (intTerm 2) (intTerm 3))"
   ]
  },
  {
   "cell_type": "code",
   "execution_count": 30,
   "metadata": {
    "slideshow": {
     "slide_type": "subslide"
    }
   },
   "outputs": [
    {
     "data": {
      "text/plain": [
       "graph {\n",
       "n0[label = \"askTerm : Question\", style = \"solid\", shape = \"plaintext\"] ;\n",
       "n0_0[label = \"multiply : Term\", style = \"solid\", shape = \"plaintext\"] ;\n",
       "n0 -- n0_0 [style = \"solid\"];\n",
       "n0_0_0[label = \"intTerm : Term\", style = \"solid\", shape = \"plaintext\"] ;\n",
       "n0_0 -- n0_0_0 [style = \"solid\"];\n",
       "n0_0_0_0[label = \"2\", style = \"solid\", shape = \"plaintext\"] ;\n",
       "n0_0_0 -- n0_0_0_0 [style = \"solid\"];\n",
       "n1_0_0[label = \"intTerm : Term\", style = \"solid\", shape = \"plaintext\"] ;\n",
       "n0_0 -- n1_0_0 [style = \"solid\"];\n",
       "n0_1_0_0[label = \"3\", style = \"solid\", shape = \"plaintext\"] ;\n",
       "n1_0_0 -- n0_1_0_0 [style = \"solid\"];\n",
       "}"
      ]
     },
     "metadata": {},
     "output_type": "display_data"
    }
   ],
   "source": [
    "parse -cat=Question \"what is 2 * 3\" | vt"
   ]
  },
  {
   "cell_type": "code",
   "execution_count": 31,
   "metadata": {
    "slideshow": {
     "slide_type": "subslide"
    }
   },
   "outputs": [
    {
     "data": {
      "application/vnd.jupyter.widget-view+json": {
       "model_id": "d367080a2a5a4e869c2455a7e12830c7",
       "version_major": 2,
       "version_minor": 0
      },
      "text/plain": [
       "Image(value=b'\\x89PNG\\r\\n\\x1a\\n\\x00\\x00\\x00\\rIHDR\\x00\\x00\\x01k\\x00\\x00\\x01[\\x08\\x06\\x00\\x00\\x00\\x13<\\xaf\\xd5\\x…"
      ]
     },
     "metadata": {},
     "output_type": "display_data"
    }
   ],
   "source": [
    "parse -cat=Question \"what is 2 * 3\" | vt | show"
   ]
  },
  {
   "cell_type": "markdown",
   "metadata": {
    "slideshow": {
     "slide_type": "slide"
    }
   },
   "source": [
    "#### Handling Ambiguities\n",
    "\n",
    "Two ways of putting parentheses:\n",
    "* (2 * 3) * 4\n",
    "* 2 * (3 * 4)"
   ]
  },
  {
   "cell_type": "code",
   "execution_count": 32,
   "metadata": {},
   "outputs": [
    {
     "data": {
      "text/plain": [
       "askTerm (multiply (intTerm 2) (multiply (intTerm 3) (intTerm 4)))"
      ]
     },
     "metadata": {},
     "output_type": "display_data"
    },
    {
     "data": {
      "text/plain": [
       "askTerm (multiply (multiply (intTerm 2) (intTerm 3)) (intTerm 4))"
      ]
     },
     "metadata": {},
     "output_type": "display_data"
    }
   ],
   "source": [
    "parse -cat=Question \"what is 2 * 3 * 4\""
   ]
  },
  {
   "cell_type": "code",
   "execution_count": 33,
   "metadata": {
    "slideshow": {
     "slide_type": "subslide"
    }
   },
   "outputs": [
    {
     "data": {
      "text/plain": [
       "2 graphs generated"
      ]
     },
     "metadata": {},
     "output_type": "display_data"
    },
    {
     "data": {
      "application/vnd.jupyter.widget-view+json": {
       "model_id": "9e33e06f41154d31bd3122d56f6f0326",
       "version_major": 2,
       "version_minor": 0
      },
      "text/plain": [
       "Dropdown(description='Tree of:', layout=Layout(width='max-content'), options=('askTerm (multiply (intTerm 2) (…"
      ]
     },
     "metadata": {},
     "output_type": "display_data"
    },
    {
     "data": {
      "application/vnd.jupyter.widget-view+json": {
       "model_id": "37dc508efd844f3194197a0e43f89132",
       "version_major": 2,
       "version_minor": 0
      },
      "text/plain": [
       "Image(value=b'\\x89PNG\\r\\n\\x1a\\n\\x00\\x00\\x00\\rIHDR\\x00\\x00\\x03\\x1c\\x00\\x00\\x02\\x1b\\x08\\x06\\x00\\x00\\x00au\\x98\\x0…"
      ]
     },
     "metadata": {},
     "output_type": "display_data"
    }
   ],
   "source": [
    "parse -cat=Question \"what is 2 * 3 * 4\" | vp -showfun | show"
   ]
  },
  {
   "cell_type": "markdown",
   "metadata": {
    "slideshow": {
     "slide_type": "slide"
    }
   },
   "source": [
    "### Part 2: Target Logic\n",
    "\n",
    "<!-- Target logic and domain theory are entered as MMT theories. -->\n",
    "\n",
    "Unicode characters can be entered via <kbd>Tab</kbd> completion (e.g. `\\forall`<kbd>Tab</kbd>)."
   ]
  },
  {
   "cell_type": "code",
   "execution_count": 34,
   "metadata": {},
   "outputs": [
    {
     "data": {
      "text/plain": [
       "Created theory Target"
      ]
     },
     "metadata": {},
     "output_type": "display_data"
    }
   ],
   "source": [
    "theory Target : ur:?LF =\n",
    "    include ☞http://cds.omdoc.org/urtheories?NatSymbols ❙\n",
    "    multiplication : NAT ⟶ NAT ⟶ NAT ❘ # 1 ⋅ 2 ❙\n",
    "❚"
   ]
  },
  {
   "cell_type": "markdown",
   "metadata": {
    "slideshow": {
     "slide_type": "slide"
    }
   },
   "source": [
    "### Part 3: Semantics Construction\n",
    "\n",
    "Mapping ASTs to logical expressions. Enter `MiniGrammarSemantics` and press <kbd>Tab</kbd> for stub generation."
   ]
  },
  {
   "cell_type": "code",
   "execution_count": 35,
   "metadata": {},
   "outputs": [
    {
     "data": {
      "text/plain": [
       "Input is neither valid GF or MMT content nor a valid shell command!"
      ]
     },
     "metadata": {},
     "output_type": "display_data"
    }
   ],
   "source": [
    "MiniGrammarSemantics"
   ]
  },
  {
   "cell_type": "code",
   "execution_count": 36,
   "metadata": {
    "slideshow": {
     "slide_type": "subslide"
    }
   },
   "outputs": [
    {
     "data": {
      "text/plain": [
       "Created view MiniGrammarSemantics"
      ]
     },
     "metadata": {},
     "output_type": "display_data"
    }
   ],
   "source": [
    "view MiniGrammarSemantics : http://mathhub.info/comma/jupyter/MiniGrammar.gf?MiniGrammar -> ?Target =\n",
    "    NAT = NAT ❙\n",
    "    Question = NAT ❙\n",
    "    Term = NAT ❙\n",
    "\n",
    "    askTerm = [x] x ❙\n",
    "    intTerm = [x] x ❙\n",
    "    multiply = [a,b] a ⋅ b ❙\n",
    "❚"
   ]
  },
  {
   "cell_type": "markdown",
   "metadata": {
    "slideshow": {
     "slide_type": "slide"
    }
   },
   "source": [
    "### Part 4: Putting it all together"
   ]
  },
  {
   "cell_type": "code",
   "execution_count": 37,
   "metadata": {},
   "outputs": [
    {
     "data": {
      "text/plain": [
       "askTerm (multiply (intTerm 2) (intTerm 3))"
      ]
     },
     "metadata": {},
     "output_type": "display_data"
    }
   ],
   "source": [
    "parse -cat=Question \"what is 2 * 3\""
   ]
  },
  {
   "cell_type": "code",
   "execution_count": 38,
   "metadata": {},
   "outputs": [
    {
     "data": {
      "text/plain": [
       "(multiplication 2 3)"
      ]
     },
     "metadata": {},
     "output_type": "display_data"
    }
   ],
   "source": [
    "parse -cat=Question \"what is 2 * 3\" | construct -e"
   ]
  },
  {
   "cell_type": "code",
   "execution_count": 39,
   "metadata": {},
   "outputs": [
    {
     "data": {
      "text/plain": [
       "2⋅3"
      ]
     },
     "metadata": {},
     "output_type": "display_data"
    }
   ],
   "source": [
    "parse -cat=Question \"what is 2 * 3\" | construct"
   ]
  },
  {
   "cell_type": "code",
   "execution_count": 40,
   "metadata": {
    "slideshow": {
     "slide_type": "subslide"
    }
   },
   "outputs": [
    {
     "data": {
      "text/plain": [
       "2⋅(3⋅4)"
      ]
     },
     "metadata": {},
     "output_type": "display_data"
    },
    {
     "data": {
      "text/plain": [
       "(2⋅3)⋅4"
      ]
     },
     "metadata": {},
     "output_type": "display_data"
    }
   ],
   "source": [
    "parse -cat=Question \"what is 2 * 3 * 4\" | construct"
   ]
  }
 ],
 "metadata": {
  "celltoolbar": "Slideshow",
  "kernelspec": {
   "display_name": "GLIF",
   "language": "gf",
   "name": "glif"
  },
  "language_info": {
   "codemirror_mode": {
    "name": "gf",
    "version": 3
   },
   "file_extension": ".gf",
   "mimetype": "text/gf",
   "name": "gf"
  }
 },
 "nbformat": 4,
 "nbformat_minor": 4
}
