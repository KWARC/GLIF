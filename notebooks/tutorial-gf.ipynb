{
 "cells": [
  {
   "cell_type": "markdown",
   "metadata": {},
   "source": [
    "## Using the GLIF Kernel for GF\n",
    "\n",
    "You can use the GLIF kernel to develop and test [GF](https://www.grammaticalframework.org/) grammars.\n",
    "For this, you need to have GF installed and the `gf` command needs to be in the path.\n",
    "\n",
    "Useful links:\n",
    "- [GF download page](https://www.grammaticalframework.org/download/index.html)\n",
    "- [GF tutorial](https://www.grammaticalframework.org/doc/tutorial/gf-tutorial.html)"
   ]
  },
  {
   "cell_type": "markdown",
   "metadata": {},
   "source": [
    "### Setting a Location for the Files\n",
    "\n",
    "You can use the `grammar-path` command to specify the directory where the `.gf`-files should be located.\n",
    "This also allows you to use files in that folder.\n",
    "\n",
    "Note that specifying the `grammar-path` disables most MMT functionality."
   ]
  },
  {
   "cell_type": "code",
   "execution_count": null,
   "metadata": {},
   "outputs": [],
   "source": [
    "grammar-path GFfiles"
   ]
  },
  {
   "cell_type": "markdown",
   "metadata": {},
   "source": [
    "### Specifying Grammars\n",
    "\n",
    "You can specify grammars directly in the code cells. We use simple pattern matching to recognize what kind of content you enter.\n",
    "If this fails, please make an issue at [https://github.com/KWARC/GLIF/issues](https://github.com/KWARC/GLIF/issues).\n",
    "\n",
    "**Tip**: Once you've entered an abstract syntax, you can generate stubs for the concrete syntaxes using tab completion. For example, you can create a stub for the `Grammar`\n",
    "by entering `GrammarEng` into a code cell and then pressing the `Tab` key."
   ]
  },
  {
   "cell_type": "code",
   "execution_count": 2,
   "metadata": {},
   "outputs": [
    {
     "data": {
      "text/plain": [
       "Defined Grammar"
      ]
     },
     "metadata": {},
     "output_type": "display_data"
    }
   ],
   "source": [
    "abstract Grammar = {\n",
    "    cat\n",
    "        Person ; Action ; Sentence ;\n",
    "\n",
    "    fun\n",
    "        john, mary : Person ;\n",
    "        run, be_happy : Action ;\n",
    "        make_sentence : Person -> Action -> Sentence ;\n",
    "        and : Sentence -> Sentence -> Sentence ;\n",
    "}"
   ]
  },
  {
   "cell_type": "code",
   "execution_count": 3,
   "metadata": {},
   "outputs": [],
   "source": [
    "concrete GrammarEng of Grammar = {\n",
    "    lincat\n",
    "        Person = Str ;\n",
    "        Action = Str ;\n",
    "        Sentence = Str ;\n",
    "    lin\n",
    "        john = \"John\" ;\n",
    "        mary = \"Mary\" ;\n",
    "        run = \"runs\" ;\n",
    "        be_happy = \"is happy\" ;\n",
    "        make_sentence person action = person ++ action ;\n",
    "        and a b = a ++ \"and\" ++ b ;\n",
    "}"
   ]
  },
  {
   "cell_type": "markdown",
   "metadata": {},
   "source": [
    "### Using GF Shell Commands\n",
    "\n",
    "You should be able to use all the GF shell commands in code cells.\n",
    "Whenever you enter a abstract or concrete syntax module, it is automatically imported into the shell.\n",
    "You can of course also import external files:"
   ]
  },
  {
   "cell_type": "code",
   "execution_count": 4,
   "metadata": {},
   "outputs": [
    {
     "data": {
      "text/plain": [
       "success"
      ]
     },
     "metadata": {},
     "output_type": "display_data"
    }
   ],
   "source": [
    "import GrammarGer.gf"
   ]
  },
  {
   "cell_type": "code",
   "execution_count": 5,
   "metadata": {},
   "outputs": [
    {
     "data": {
      "text/plain": [
       "make_sentence john be_happy"
      ]
     },
     "metadata": {},
     "output_type": "display_data"
    },
    {
     "data": {
      "text/plain": [
       "And here is the German translation:"
      ]
     },
     "metadata": {},
     "output_type": "display_data"
    },
    {
     "data": {
      "text/plain": [
       "Johann ist glücklich"
      ]
     },
     "metadata": {},
     "output_type": "display_data"
    }
   ],
   "source": [
    "parse -cat=Sentence -lang=Eng \"John is happy\"\n",
    "put_string \"And here is the German translation:\"\n",
    "parse -cat=Sentence -lang=Eng \"John is happy\" | linearize -lang=Ger"
   ]
  },
  {
   "cell_type": "markdown",
   "metadata": {},
   "source": [
    "### Viewing Parse Trees\n",
    "\n",
    "If you run Jupyter on your local machine, you might be able to view parse trees as you are used to via the `-view=...` option.\n",
    "However, you can also pipe the output of commands like `view_parse` into the special kernel command `show` to\n",
    "view the parse trees in the notebook.\n",
    "Note that you need to have Graphviz installed for this."
   ]
  },
  {
   "cell_type": "code",
   "execution_count": 6,
   "metadata": {},
   "outputs": [
    {
     "data": {
      "application/vnd.jupyter.widget-view+json": {
       "model_id": "584a54f307494e2cb101e0d4822e5382",
       "version_major": 2,
       "version_minor": 0
      },
      "text/plain": [
       "Image(value=b'\\x89PNG\\r\\n\\x1a\\n\\x00\\x00\\x00\\rIHDR\\x00\\x00\\x01\"\\x00\\x00\\x00\\xfb\\x08\\x06\\x00\\x00\\x00\\xce\\xf8\\x99…"
      ]
     },
     "metadata": {},
     "output_type": "display_data"
    }
   ],
   "source": [
    "parse -cat=Sentence -lang=Eng \"John is happy\" | view_parse | show"
   ]
  },
  {
   "cell_type": "markdown",
   "metadata": {},
   "source": [
    "And here are the parse trees for a syntactically ambiguous sentence:"
   ]
  },
  {
   "cell_type": "code",
   "execution_count": 7,
   "metadata": {},
   "outputs": [
    {
     "data": {
      "text/plain": [
       "2 graphs generated"
      ]
     },
     "metadata": {},
     "output_type": "display_data"
    },
    {
     "data": {
      "application/vnd.jupyter.widget-view+json": {
       "model_id": "dfd57760701f47788bd9343ee7921b4e",
       "version_major": 2,
       "version_minor": 0
      },
      "text/plain": [
       "Dropdown(description='Tree of:', layout=Layout(width='max-content'), options=('and (make_sentence john be_happ…"
      ]
     },
     "metadata": {},
     "output_type": "display_data"
    },
    {
     "data": {
      "application/vnd.jupyter.widget-view+json": {
       "model_id": "8874b6f8644b483298dd3e03cfa164ee",
       "version_major": 2,
       "version_minor": 0
      },
      "text/plain": [
       "Image(value=b'\\x89PNG\\r\\n\\x1a\\n\\x00\\x00\\x00\\rIHDR\\x00\\x00\\x03\\xc3\\x00\\x00\\x01\\xbb\\x08\\x06\\x00\\x00\\x00\\xe7\\x9bG…"
      ]
     },
     "metadata": {},
     "output_type": "display_data"
    }
   ],
   "source": [
    "parse -cat=Sentence -lang=Eng \"John is happy and Mary is happy and John runs\" | view_parse | show"
   ]
  }
 ],
 "metadata": {
  "kernelspec": {
   "display_name": "GLIF",
   "language": "gf",
   "name": "glif"
  },
  "language_info": {
   "codemirror_mode": {
    "name": "gf",
    "version": 3
   },
   "file_extension": ".gf",
   "mimetype": "text/gf",
   "name": "gf"
  }
 },
 "nbformat": 4,
 "nbformat_minor": 4
}
