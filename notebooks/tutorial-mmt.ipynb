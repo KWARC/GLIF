{
 "cells": [
  {
   "cell_type": "markdown",
   "metadata": {},
   "source": [
    "## Using the GLIF Kernel for MMT\n",
    "\n",
    "You can use the GLIF kernel to implement [MMT](https://uniformal.github.io/) theories and views.\n",
    "For this you need to have MMT installed and the environment variable `MMT_PATH` has to point to the directory of your MMT installation, i.e. there is a file `$MMT_PATH/deploy/mmt.jar`.\n",
    "\n",
    "Useful links:\n",
    "- [MMT installation guide](https://uniformal.github.io//doc/setup/)\n",
    "- [the MMT tutorial for mathematicians](https://gl.mathhub.info/Tutorials/Mathematicians/-/raw/master/tutorial/mmt-math-tutorial.pdf?inline=false)"
   ]
  },
  {
   "cell_type": "markdown",
   "metadata": {},
   "source": [
    "### Setting up a location for the files\n",
    "\n",
    "With the `archive` command, you can specify an archive and with the `subdir` command you can specify a subdirectory for the files.\n",
    "We strongly recommend using a unique subdirectory for every notebook to avoid confusion caused by identical theory names."
   ]
  },
  {
   "cell_type": "code",
   "execution_count": 10,
   "metadata": {},
   "outputs": [
    {
     "data": {
      "text/plain": [
       "Changed to archive comma/jupyter"
      ]
     },
     "metadata": {},
     "output_type": "display_data"
    },
    {
     "data": {
      "text/plain": [
       "Changed to subdirectory mmt-with-glif"
      ]
     },
     "metadata": {},
     "output_type": "display_data"
    }
   ],
   "source": [
    "archive comma/jupyter\n",
    "subdir mmt-with-glif"
   ]
  },
  {
   "cell_type": "markdown",
   "metadata": {},
   "source": [
    "### Entering MMT Content\n",
    "\n",
    "You can simply enter theories and views into code cells. When the code cell is executed, a file is created with the name of the theory/view and built with MMT.\n",
    "\n",
    "You can enter unicode characters with tab completion. E.g. pressing the Tab key after entering `\\wedge` gives you the ∧ symbol.\n",
    "For the MMT delimiters, use \\OD, \\DD and \\MD respectively. The complete character map can be found [here](https://github.com/KWARC/GLIF/blob/master/glif_kernel/unicode-latex-map)."
   ]
  },
  {
   "cell_type": "code",
   "execution_count": 11,
   "metadata": {},
   "outputs": [
    {
     "data": {
      "text/plain": [
       "Created theory example"
      ]
     },
     "metadata": {},
     "output_type": "display_data"
    }
   ],
   "source": [
    "theory example : ur:?LF =\n",
    "    t : type ❙\n",
    "❚"
   ]
  },
  {
   "cell_type": "markdown",
   "metadata": {},
   "source": [
    "This resulted in the theory `http://mathhub.info/comma/jupyter/mmt-with-glif?example`.\n",
    "Let's see what happens if we make a mistake:"
   ]
  },
  {
   "cell_type": "code",
   "execution_count": 12,
   "metadata": {},
   "outputs": [
    {
     "data": {
      "text/plain": [
       "invalid unit: http://mathhub.info/comma/jupyter?error?s?definition: Judgment  |- t : t"
      ]
     },
     "metadata": {},
     "output_type": "display_data"
    }
   ],
   "source": [
    "theory error : ?example =\n",
    "    s : t ❘ = t ❙\n",
    "❚"
   ]
  }
 ],
 "metadata": {
  "kernelspec": {
   "display_name": "GLIF",
   "language": "gf",
   "name": "glif"
  },
  "language_info": {
   "codemirror_mode": {
    "name": "gf",
    "version": 3
   },
   "file_extension": ".gf",
   "mimetype": "text/gf",
   "name": "gf"
  }
 },
 "nbformat": 4,
 "nbformat_minor": 4
}
