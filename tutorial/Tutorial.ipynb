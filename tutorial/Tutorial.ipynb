{
 "cells": [
  {
   "cell_type": "markdown",
   "metadata": {},
   "source": [
    "GLF Kernel - Tutorial\n",
    "==="
   ]
  },
  {
   "cell_type": "markdown",
   "metadata": {},
   "source": [
    "#### Installation\n",
    "See the instructions in the GitHub repository ([https://github.com/kwarc/glf_kernel](https://github.com/kwarc/glf_kernel))."
   ]
  },
  {
   "cell_type": "markdown",
   "metadata": {},
   "source": [
    "#### Very Brief Intro: Jupyter Cells\n",
    "In Jupyter, there are two types of cells:\n",
    "* *markdown cells* (such as this one), which can be used for documentation and explanations\n",
    "* *code cells*, which contain GF grammars and shell commands if you use the GF kernel\n",
    "\n",
    "You can edit a cell by clicking on it (double clicking in the case of markdown cells).\n",
    "To execute the cell, you can press <kbd>Ctrl</kbd>+<kbd>Return</kbd> or <kbd>Shift</kbd>+<kbd>Return</kbd>. If you want to execute all cells in the notebook, you can choose *Cell* -> *Run All* in the top menu."
   ]
  },
  {
   "cell_type": "markdown",
   "metadata": {},
   "source": [
    "## GLF Kernel Commands\n",
    "\n",
    "You can use this kernel to create new MMT archives or switch to existing ones using the `archive` command.\n",
    "\n",
    "`archive 'archive-name'` will set your current working archive to the speciified archive or create a new archive if it doesn't exist already.\n",
    "\n",
    "The default archive for this kernel will be `COMMA/JUPYTER`"
   ]
  },
  {
   "cell_type": "code",
   "execution_count": 1,
   "metadata": {},
   "outputs": [
    {
     "data": {
      "text/plain": [
       "Changed to archive comma/jupyter"
      ]
     },
     "metadata": {},
     "output_type": "display_data"
    }
   ],
   "source": [
    "archive comma/jupyter"
   ]
  },
  {
   "cell_type": "markdown",
   "metadata": {},
   "source": [
    "If you wish to save your MMT and GF source files into a specific subdirectory, you can do this with the `subdir` command.\n",
    "Executing `subdir` without arguments will return your current subdirectory.\n",
    "Note that the subdirectory you specify is always relative to the current archives source directory. \n",
    "So if you'd like to create a nested subdirectory you can do this with something like:"
   ]
  },
  {
   "cell_type": "code",
   "execution_count": 2,
   "metadata": {},
   "outputs": [
    {
     "data": {
      "text/plain": [
       "Changed to subdirectory test/test1"
      ]
     },
     "metadata": {},
     "output_type": "display_data"
    }
   ],
   "source": [
    "subdir test/test1"
   ]
  },
  {
   "cell_type": "markdown",
   "metadata": {},
   "source": [
    "You can also use the archive command to get an overview of your current archive. Let's see how it looks like:"
   ]
  },
  {
   "cell_type": "code",
   "execution_count": 3,
   "metadata": {},
   "outputs": [
    {
     "name": "stdout",
     "output_type": "stream",
     "text": [
      "comma/jupyter\n",
      "└── source\n",
      "   └── test\n",
      "       └── test1\n",
      "           ├── Grammar.gf\n",
      "           └── GrammarEng.gf\n"
     ]
    }
   ],
   "source": [
    "archive"
   ]
  },
  {
   "cell_type": "markdown",
   "metadata": {},
   "source": [
    "## Defining Grammars\n",
    "You can define GF Grammars directly in the notebook using code cells.\n",
    "\n",
    "These grammars will automatically be saved into the source (or when specified sub-) directory of the current archive.\n",
    "\n",
    "For toggling line numbers in a cell, you need to switch to command mode (<kbd>Esc</kbd>) and press <kbd>L</kbd>."
   ]
  },
  {
   "cell_type": "code",
   "execution_count": 4,
   "metadata": {},
   "outputs": [
    {
     "data": {
      "text/plain": [
       "Defined Grammar"
      ]
     },
     "metadata": {},
     "output_type": "display_data"
    }
   ],
   "source": [
    "abstract Grammar = {\n",
    "    cat\n",
    "        Person ; Action ; Sentence ;\n",
    "\n",
    "    fun\n",
    "        john, mary : Person ;\n",
    "        run, be_happy : Action ;\n",
    "        make_sentence : Person -> Action -> Sentence ;\n",
    "        and : Sentence -> Sentence -> Sentence ;\n",
    "}"
   ]
  },
  {
   "cell_type": "code",
   "execution_count": 5,
   "metadata": {},
   "outputs": [],
   "source": [
    "concrete GrammarEng of Grammar = {\n",
    "    lincat\n",
    "        Person = Str ;\n",
    "        Action = Str ;\n",
    "        Sentence = Str ;\n",
    "    lin\n",
    "        john = \"John\" ;\n",
    "        mary = \"Mary\" ;\n",
    "        run = \"runs\" ;\n",
    "        be_happy = \"is happy\" ;\n",
    "        make_sentence person action = person ++ action ;\n",
    "        and a b = a ++ \"and\" ++ b ;\n",
    "}"
   ]
  },
  {
   "cell_type": "markdown",
   "metadata": {},
   "source": [
    "You can also run normal GF commands, as you are used to:"
   ]
  },
  {
   "cell_type": "code",
   "execution_count": 6,
   "metadata": {},
   "outputs": [
    {
     "data": {
      "text/plain": [
       "make_sentence john run"
      ]
     },
     "metadata": {},
     "output_type": "display_data"
    }
   ],
   "source": [
    "parse -cat=Sentence \"John runs\""
   ]
  },
  {
   "cell_type": "markdown",
   "metadata": {},
   "source": [
    "For displaying graphs in the notebook, you need to pipe them into the `show` command."
   ]
  },
  {
   "cell_type": "code",
   "execution_count": 7,
   "metadata": {},
   "outputs": [
    {
     "data": {
      "application/vnd.jupyter.widget-view+json": {
       "model_id": "22d7a1deda10430e8ef66aa22dce78be",
       "version_major": 2,
       "version_minor": 0
      },
      "text/plain": [
       "Image(value=b'\\x89PNG\\r\\n\\x1a\\n\\x00\\x00\\x00\\rIHDR\\x00\\x00\\x02\\x88\\x00\\x00\\x00\\xfb\\x08\\x06\\x00\\x00\\x00\\xe9`e\\xf…"
      ]
     },
     "metadata": {},
     "output_type": "display_data"
    }
   ],
   "source": [
    "parse -cat=Sentence \"John runs and Mary is happy\" | view_tree | show"
   ]
  },
  {
   "cell_type": "markdown",
   "metadata": {},
   "source": [
    "## MMT For Target Logic and Semantics Construction"
   ]
  },
  {
   "cell_type": "markdown",
   "metadata": {},
   "source": [
    "You can also use it to define new theories and views that you would like to use with your grammars.\n",
    "Every time a new theory, view or grammar is specified MMT will build it.\n",
    "\n",
    "The namespace of defined theories or views will automatically be set to the current archive."
   ]
  },
  {
   "cell_type": "code",
   "execution_count": 8,
   "metadata": {},
   "outputs": [
    {
     "data": {
      "text/plain": [
       "Created theory FolLogic"
      ]
     },
     "metadata": {},
     "output_type": "display_data"
    }
   ],
   "source": [
    "theory FolLogic : ur:?LF =\n",
    "\to : type ❙\n",
    "\tι : type ❙\n",
    "\tand : o ⟶ o ⟶ o ❘ # 1 ∧ 2 ❙\n",
    "❚"
   ]
  },
  {
   "cell_type": "code",
   "execution_count": 9,
   "metadata": {},
   "outputs": [
    {
     "data": {
      "text/plain": [
       "Created theory DomainTheory"
      ]
     },
     "metadata": {},
     "output_type": "display_data"
    }
   ],
   "source": [
    "theory DomainTheory : ?FolLogic =\n",
    "\tjohn : ι ❙\n",
    "\tmary : ι ❙\n",
    "\trun : ι ⟶ o ❙\n",
    "\thappy : ι ⟶ o ❙\n",
    "❚"
   ]
  },
  {
   "cell_type": "code",
   "execution_count": 10,
   "metadata": {},
   "outputs": [
    {
     "data": {
      "text/plain": [
       "Created view grammarSem"
      ]
     },
     "metadata": {},
     "output_type": "display_data"
    }
   ],
   "source": [
    "view grammarSem : jupyter/Grammar.gf?Grammar -> ?DomainTheory =\n",
    "\tPerson = ι ❙\n",
    "\tAction = ι ⟶ o ❙\n",
    "\tSentence = o ❙\n",
    "\tjohn = john ❙\n",
    "\tmary = mary ❙\n",
    "\trun = run ❙\n",
    "\tbe_happy = happy ❙\n",
    "\tmake_sentence = [p,a] (a p) ❙\n",
    "\tand = [a,b] b ∧ a ❙\n",
    "❚"
   ]
  },
  {
   "cell_type": "markdown",
   "metadata": {},
   "source": [
    "Now you can send semantics construction requests to the GLF-Server using the `construct` command.\n",
    "The `construct` command takes an AST as argument, e.g.:"
   ]
  },
  {
   "cell_type": "code",
   "execution_count": 11,
   "metadata": {},
   "outputs": [
    {
     "data": {
      "text/plain": [
       "(happy mary)∧(run john)"
      ]
     },
     "metadata": {},
     "output_type": "display_data"
    }
   ],
   "source": [
    "construct and (make_sentence john run) (make_sentence mary be_happy)"
   ]
  },
  {
   "cell_type": "markdown",
   "metadata": {},
   "source": [
    "`construct` always uses the last view you specified in the notebook.\n",
    "Should you wish to change the view that is used for the requests you can do it via the -v option.\n",
    "This also sets the specified view as the default view for further requests.\n",
    "You can also use `construct` in a pipe-like way like most other GF commands:"
   ]
  },
  {
   "cell_type": "code",
   "execution_count": 12,
   "metadata": {},
   "outputs": [
    {
     "data": {
      "text/plain": [
       "(happy mary)∧(run john)"
      ]
     },
     "metadata": {},
     "output_type": "display_data"
    }
   ],
   "source": [
    "parse -cat=Sentence \"John runs and Mary is happy\" | construct -v grammarSem"
   ]
  },
  {
   "cell_type": "markdown",
   "metadata": {},
   "source": [
    "## Further Kernel Commands\n",
    "\n",
    "Apart from `export` and `view`, there are two more kernel commands: `clean` and `help`.\n",
    "\n",
    "`clean` removes `.gfo`, `.dot` and `.png` files.\n",
    "\n",
    "`help` displays information on the kernel commands (not the GF shell commands).\n",
    "If you want information on the GF shell commands instead, you should use\n",
    "the shortcut `h` instead:"
   ]
  },
  {
   "cell_type": "code",
   "execution_count": 13,
   "metadata": {},
   "outputs": [
    {
     "data": {
      "text/plain": [
       "r, reload"
      ]
     },
     "metadata": {},
     "output_type": "display_data"
    },
    {
     "data": {
      "text/plain": [
       "repeat the latest import command"
      ]
     },
     "metadata": {},
     "output_type": "display_data"
    }
   ],
   "source": [
    "h reload"
   ]
  },
  {
   "cell_type": "code",
   "execution_count": 14,
   "metadata": {},
   "outputs": [
    {
     "data": {
      "text/plain": [
       "Available kernel commands:"
      ]
     },
     "metadata": {},
     "output_type": "display_data"
    },
    {
     "data": {
      "text/plain": [
       "show 'graph' : shows the graph in the notebook"
      ]
     },
     "metadata": {},
     "output_type": "display_data"
    },
    {
     "data": {
      "text/plain": [
       "clean : remove all .dot, .png and .gfo files from the current directory"
      ]
     },
     "metadata": {},
     "output_type": "display_data"
    },
    {
     "data": {
      "text/plain": [
       "export 'name' : export the grammar 'name' to your current directory"
      ]
     },
     "metadata": {},
     "output_type": "display_data"
    },
    {
     "data": {
      "text/plain": [
       "archive [-c] 'MMT-archive' : sets 'MMT-archive' as the current archive. The -c option creates the archive if it does not exist yet"
      ]
     },
     "metadata": {},
     "output_type": "display_data"
    },
    {
     "data": {
      "text/plain": [
       "construct 'AST' : sends the AST to the MMT GLF-Server extension"
      ]
     },
     "metadata": {},
     "output_type": "display_data"
    },
    {
     "data": {
      "text/plain": [
       "To display more information on the GF shell commands use 'h'"
      ]
     },
     "metadata": {},
     "output_type": "display_data"
    },
    {
     "data": {
      "text/plain": [
       "All kernel commands are pipeable in a GF-shell like manner using '|', e.g. parse 'Sentence' | vt | view"
      ]
     },
     "metadata": {},
     "output_type": "display_data"
    },
    {
     "data": {
      "text/plain": [
       "You can use the kernel as an editor for your grammars, views or theories."
      ]
     },
     "metadata": {},
     "output_type": "display_data"
    },
    {
     "data": {
      "text/plain": [
       "Stated grammars are automatically imported upon definiton."
      ]
     },
     "metadata": {},
     "output_type": "display_data"
    },
    {
     "data": {
      "text/plain": [
       "Whenever a grammar, theory or view is defined the current MMT archive will be built"
      ]
     },
     "metadata": {},
     "output_type": "display_data"
    }
   ],
   "source": [
    "help"
   ]
  },
  {
   "cell_type": "code",
   "execution_count": null,
   "metadata": {},
   "outputs": [],
   "source": []
  }
 ],
 "metadata": {
  "kernelspec": {
   "display_name": "GLF",
   "language": "gf",
   "name": "glf"
  },
  "language_info": {
   "codemirror_mode": {
    "name": "gf",
    "version": 3
   },
   "file_extension": ".gf",
   "mimetype": "text/gf",
   "name": "gf"
  }
 },
 "nbformat": 4,
 "nbformat_minor": 4
}
