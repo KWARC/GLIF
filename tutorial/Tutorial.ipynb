{
 "cells": [
  {
   "cell_type": "markdown",
   "metadata": {},
   "source": [
    "GLF Kernel - Tutorial\n",
    "==="
   ]
  },
  {
   "cell_type": "markdown",
   "metadata": {},
   "source": [
    "#### Installation\n",
    "See the instructions in the GitHub repository ([https://github.com/kwarc/glf_kernel](https://github.com/kwarc/glf_kernel))."
   ]
  },
  {
   "cell_type": "markdown",
   "metadata": {},
   "source": [
    "#### Very Brief Intro: Jupyter Cells\n",
    "In Jupyter, there are two types of cells:\n",
    "* *markdown cells* (such as this one), which can be used for documentation and explanations\n",
    "* *code cells*, which contain GF grammars and shell commands if you use the GF kernel\n",
    "\n",
    "You can edit a cell by clicking on it (double clicking in the case of markdown cells).\n",
    "To execute the cell, you can press <kbd>Ctrl</kbd>+<kbd>Return</kbd> or <kbd>Shift</kbd>+<kbd>Return</kbd>. If you want to execute all cells in the notebook, you can choose *Cell* -> *Run All* in the top menu."
   ]
  },
  {
   "cell_type": "markdown",
   "metadata": {},
   "source": [
    "## GLF Kernel Commands\n",
    "\n",
    "You can use this kernel to create new MMT archives or switch to existing ones using the `archive` command.\n",
    "\n",
    "`archive 'archive-name'` will set your current working archive to the speciified archive or create a new archive if it doesn't exist already.\n",
    "\n",
    "The default archive for this kernel will be `COMMA/JUPYTER`"
   ]
  },
  {
   "cell_type": "code",
   "execution_count": 1,
   "metadata": {},
   "outputs": [
    {
     "data": {
      "text/plain": [
       "Set grammar-path to D:\\Documents\\GitHub\\GLIF\\tutorial\\asdasd. MMT functionality is now disabled"
      ]
     },
     "metadata": {},
     "output_type": "display_data"
    }
   ],
   "source": [
    "grammar-path asdasd"
   ]
  },
  {
   "cell_type": "markdown",
   "metadata": {},
   "source": [
    "If you wish to save your MMT and GF source files into a specific subdirectory, you can do this with the `subdir` command.\n",
    "Executing `subdir` without arguments will return your current subdirectory.\n",
    "Note that the subdirectory you specify is always relative to the current archives source directory. \n",
    "So if you'd like to create a nested subdirectory you can do this with something like:"
   ]
  },
  {
   "cell_type": "code",
   "execution_count": 2,
   "metadata": {},
   "outputs": [
    {
     "data": {
      "text/plain": [
       "MMT-functionality is blocked due to changes to the storing location for Grammars is changed in this notebook."
      ]
     },
     "metadata": {},
     "output_type": "display_data"
    }
   ],
   "source": [
    "subdir test/test1"
   ]
  },
  {
   "cell_type": "markdown",
   "metadata": {},
   "source": [
    "You can also use the archive command to get an overview of your current archive. Let's see how it looks like:"
   ]
  },
  {
   "cell_type": "code",
   "execution_count": 3,
   "metadata": {},
   "outputs": [
    {
     "data": {
      "text/plain": [
       "MMT-functionality is blocked due to changes to the storing location for Grammars is changed in this notebook."
      ]
     },
     "metadata": {},
     "output_type": "display_data"
    }
   ],
   "source": [
    "archive"
   ]
  },
  {
   "cell_type": "markdown",
   "metadata": {},
   "source": [
    "## Defining Grammars\n",
    "You can define GF Grammars directly in the notebook using code cells.\n",
    "\n",
    "These grammars will automatically be saved into the source (or when specified sub-) directory of the current archive.\n",
    "\n",
    "For toggling line numbers in a cell, you need to switch to command mode (<kbd>Esc</kbd>) and press <kbd>L</kbd>."
   ]
  },
  {
   "cell_type": "code",
   "execution_count": 2,
   "metadata": {},
   "outputs": [
    {
     "data": {
      "text/plain": [
       "GF functionality unavailable. No GF installation detected."
      ]
     },
     "metadata": {},
     "output_type": "display_data"
    }
   ],
   "source": [
    "abstract Grammar = {\n",
    "    cat\n",
    "        Person ; Action ; Sentence ;\n",
    "\n",
    "    fun\n",
    "        john, mary : Person ;\n",
    "        run, be_happy : Action ;\n",
    "        make_sentence : Person -> Action -> Sentence ;\n",
    "        and : Sentence -> Sentence -> Sentence ;\n",
    "}"
   ]
  },
  {
   "cell_type": "code",
   "execution_count": 3,
   "metadata": {},
   "outputs": [
    {
     "data": {
      "text/plain": [
       "GF functionality unavailable. No GF installation detected."
      ]
     },
     "metadata": {},
     "output_type": "display_data"
    }
   ],
   "source": [
    "concrete GrammarEng of Grammar = {\n",
    "    lincat\n",
    "        Person = Str ;\n",
    "        Action = Str ;\n",
    "        Sentence = Str ;\n",
    "    lin\n",
    "        john = \"John\" ;\n",
    "        mary = \"Mary\" ;\n",
    "        run = \"runs\" ;\n",
    "        be_happy = \"is happy\" ;\n",
    "        make_sentence person action = person ++ action ;\n",
    "        and a b = a ++ \"and\" ++ b ;\n",
    "}"
   ]
  },
  {
   "cell_type": "markdown",
   "metadata": {},
   "source": [
    "You can also run normal GF commands, as you are used to:"
   ]
  },
  {
   "cell_type": "code",
   "execution_count": 6,
   "metadata": {},
   "outputs": [
    {
     "data": {
      "text/plain": [
       "make_sentence john run"
      ]
     },
     "metadata": {},
     "output_type": "display_data"
    }
   ],
   "source": [
    "parse -cat=Sentence \"John runs\""
   ]
  },
  {
   "cell_type": "markdown",
   "metadata": {},
   "source": [
    "For displaying graphs in the notebook, you need to pipe them into the `show` command."
   ]
  },
  {
   "cell_type": "code",
   "execution_count": 4,
   "metadata": {},
   "outputs": [
    {
     "data": {
      "text/plain": [
       "There is no tree to show!"
      ]
     },
     "metadata": {},
     "output_type": "display_data"
    }
   ],
   "source": [
    "parse -cat=Sentence \"John runs and Mary is happy\" | view_tree | show"
   ]
  },
  {
   "cell_type": "markdown",
   "metadata": {},
   "source": [
    "## MMT For Target Logic and Semantics Construction"
   ]
  },
  {
   "cell_type": "markdown",
   "metadata": {},
   "source": [
    "You can also use it to define new theories and views that you would like to use with your grammars.\n",
    "Every time a new theory, view or grammar is specified MMT will build it.\n",
    "\n",
    "The namespace of defined theories or views will automatically be set to the current archive."
   ]
  },
  {
   "cell_type": "code",
   "execution_count": 5,
   "metadata": {},
   "outputs": [
    {
     "data": {
      "text/plain": [
       "Created theory FolLogic"
      ]
     },
     "metadata": {},
     "output_type": "display_data"
    }
   ],
   "source": [
    "theory FolLogic : ur:?LF =\n",
    "\to : type ❙\n",
    "\tι : type ❙\n",
    "\tand : o ⟶ o ⟶ o ❘ # 1 ∧ 2 ❙\n",
    "❚"
   ]
  },
  {
   "cell_type": "code",
   "execution_count": 6,
   "metadata": {},
   "outputs": [
    {
     "data": {
      "text/plain": [
       "Created theory DomainTheory"
      ]
     },
     "metadata": {},
     "output_type": "display_data"
    }
   ],
   "source": [
    "theory DomainTheory : ?FolLogic =\n",
    "\tjohn : ι ❙\n",
    "\tmary : ι ❙\n",
    "\trun : ι ⟶ o ❙\n",
    "\thappy : ι ⟶ o ❙\n",
    "❚"
   ]
  },
  {
   "cell_type": "code",
   "execution_count": 7,
   "metadata": {},
   "outputs": [
    {
     "data": {
      "text/plain": [
       "Created view grammarSem"
      ]
     },
     "metadata": {},
     "output_type": "display_data"
    }
   ],
   "source": [
    "view grammarSem : jupyter/Grammar.gf?Grammar -> ?DomainTheory =\n",
    "\tPerson = ι ❙\n",
    "\tAction = ι ⟶ o ❙\n",
    "\tSentence = o ❙\n",
    "\tjohn = john ❙\n",
    "\tmary = mary ❙\n",
    "\trun = run ❙\n",
    "\tbe_happy = happy ❙\n",
    "\tmake_sentence = [p,a] (a p) ❙\n",
    "\tand = [a,b] b ∧ a ❙\n",
    "❚"
   ]
  },
  {
   "cell_type": "markdown",
   "metadata": {},
   "source": [
    "Now you can send semantics construction requests to the GLF-Server using the `construct` command.\n",
    "The `construct` command takes an AST as argument, e.g.:"
   ]
  },
  {
   "cell_type": "code",
   "execution_count": 8,
   "metadata": {},
   "outputs": [
    {
     "data": {
      "text/plain": [
       "<div xmlns=\"http://www.w3.org/1999/xhtml\"><div><div class=\"error\"><div><span class=\"name\">info.kwarc.mmt.api.web.ServerError</span> of level <span class=\"level\">2</span></div><div class=\"message\">Invalid JSON: can't handle entry '&quot;toElpi&quot;'</div><div class=\"stacktrace\"><div class=\"stacktraceline\"><span>info.kwarc.mmt.glf.GlfConstructQuery$.$anonfun$fromJSON$1(GlfConstructServer.scala:108)</span></div><div class=\"stacktraceline\"><span>info.kwarc.mmt.glf.GlfConstructQuery$.$anonfun$fromJSON$1$adapted(GlfConstructServer.scala:95)</span></div><div class=\"stacktraceline\"><span>scala.collection.immutable.List.foreach(List.scala:392)</span></div><div class=\"stacktraceline\"><span>info.kwarc.mmt.glf.GlfConstructQuery$.fromJSON(GlfConstructServer.scala:95)</span></div><div class=\"stacktraceline\"><span>info.kwarc.mmt.glf.GlfConstructServer.apply(GlfConstructServer.scala:19)</span></div><div class=\"stacktraceline\"><span>info.kwarc.mmt.api.web.Server.resolveExtension(Server.scala:99)</span></div><div class=\"stacktraceline\"><span>info.kwarc.mmt.api.web.Server.resolve(Server.scala:80)</span></div><div class=\"stacktraceline\"><span>info.kwarc.mmt.api.web.Server.handleRequest(Server.scala:55)</span></div><div class=\"stacktraceline\"><span>info.kwarc.mmt.api.web.TiscafServerImplementation$RequestHandler$$anon$1.act(TiscafServerImplementation.scala:49)</span></div><div class=\"stacktraceline\"><span>tiscaf.HSimpleLet.aact(HLet.scala:168)</span></div><div class=\"stacktraceline\"><span>tiscaf.HSimpleLet.aact$(HLet.scala:167)</span></div><div class=\"stacktraceline\"><span>info.kwarc.mmt.api.web.TiscafServerImplementation$RequestHandler$$anon$1.aact(TiscafServerImplementation.scala:47)</span></div><div class=\"stacktraceline\"><span>tiscaf.HAcceptor.talk(HAcceptor.scala:246)</span></div><div class=\"stacktraceline\"><span>tiscaf.HSimplePeer.doTalkItself$1(HPeer.scala:105)</span></div><div class=\"stacktraceline\"><span>tiscaf.HSimplePeer.$anonfun$readChannel$2(HPeer.scala:119)</span></div><div class=\"stacktraceline\"><span>scala.runtime.java8.JFunction0$mcV$sp.apply(JFunction0$mcV$sp.java:23)</span></div><div class=\"stacktraceline\"><span>scala.concurrent.Future$.$anonfun$apply$1(Future.scala:658)</span></div><div class=\"stacktraceline\"><span>scala.util.Success.$anonfun$map$1(Try.scala:255)</span></div><div class=\"stacktraceline\"><span>scala.util.Success.map(Try.scala:213)</span></div><div class=\"stacktraceline\"><span>scala.concurrent.Future.$anonfun$map$1(Future.scala:292)</span></div><div class=\"stacktraceline\"><span>scala.concurrent.impl.Promise.liftedTree1$1(Promise.scala:33)</span></div><div class=\"stacktraceline\"><span>scala.concurrent.impl.Promise.$anonfun$transform$1(Promise.scala:33)</span></div><div class=\"stacktraceline\"><span>scala.concurrent.impl.CallbackRunnable.run(Promise.scala:64)</span></div><div class=\"stacktraceline\"><span>tiscaf.sync.SyncQuExecutionContext$$anon$1.run(SyncQuExecutionContext.scala:69)</span></div></div></div></div></div>"
      ]
     },
     "metadata": {},
     "output_type": "display_data"
    }
   ],
   "source": [
    "construct and (make_sentence john run) (make_sentence mary be_happy)"
   ]
  },
  {
   "cell_type": "markdown",
   "metadata": {},
   "source": [
    "`construct` always uses the last view you specified in the notebook.\n",
    "Should you wish to change the view that is used for the requests you can do it via the -v option.\n",
    "This also sets the specified view as the default view for further requests.\n",
    "You can also use `construct` in a pipe-like way like most other GF commands:"
   ]
  },
  {
   "cell_type": "code",
   "execution_count": null,
   "metadata": {},
   "outputs": [],
   "source": [
    "parse -cat=Sentence \"John runs and Mary is happy\" | construct -v grammarSem"
   ]
  },
  {
   "cell_type": "markdown",
   "metadata": {},
   "source": [
    "## Further Kernel Commands\n",
    "\n",
    "Apart from `export` and `view`, there are two more kernel commands: `clean` and `help`.\n",
    "\n",
    "`clean` removes `.gfo`, `.dot` and `.png` files.\n",
    "\n",
    "`help` displays information on the kernel commands (not the GF shell commands).\n",
    "If you want information on the GF shell commands instead, you should use\n",
    "the shortcut `h` instead:"
   ]
  },
  {
   "cell_type": "code",
   "execution_count": null,
   "metadata": {},
   "outputs": [],
   "source": [
    "parse asdasd"
   ]
  },
  {
   "cell_type": "code",
   "execution_count": 14,
   "metadata": {},
   "outputs": [
    {
     "data": {
      "text/plain": [
       "Available kernel commands:"
      ]
     },
     "metadata": {},
     "output_type": "display_data"
    },
    {
     "data": {
      "text/plain": [
       "show 'graph' : shows the graph in the notebook"
      ]
     },
     "metadata": {},
     "output_type": "display_data"
    },
    {
     "data": {
      "text/plain": [
       "clean : remove all .dot, .png and .gfo files from the current directory"
      ]
     },
     "metadata": {},
     "output_type": "display_data"
    },
    {
     "data": {
      "text/plain": [
       "export 'name' : export the grammar 'name' to your current directory"
      ]
     },
     "metadata": {},
     "output_type": "display_data"
    },
    {
     "data": {
      "text/plain": [
       "archive [-c] 'MMT-archive' : sets 'MMT-archive' as the current archive. The -c option creates the archive if it does not exist yet"
      ]
     },
     "metadata": {},
     "output_type": "display_data"
    },
    {
     "data": {
      "text/plain": [
       "construct 'AST' : sends the AST to the MMT GLF-Server extension"
      ]
     },
     "metadata": {},
     "output_type": "display_data"
    },
    {
     "data": {
      "text/plain": [
       "To display more information on the GF shell commands use 'h'"
      ]
     },
     "metadata": {},
     "output_type": "display_data"
    },
    {
     "data": {
      "text/plain": [
       "All kernel commands are pipeable in a GF-shell like manner using '|', e.g. parse 'Sentence' | vt | view"
      ]
     },
     "metadata": {},
     "output_type": "display_data"
    },
    {
     "data": {
      "text/plain": [
       "You can use the kernel as an editor for your grammars, views or theories."
      ]
     },
     "metadata": {},
     "output_type": "display_data"
    },
    {
     "data": {
      "text/plain": [
       "Stated grammars are automatically imported upon definiton."
      ]
     },
     "metadata": {},
     "output_type": "display_data"
    },
    {
     "data": {
      "text/plain": [
       "Whenever a grammar, theory or view is defined the current MMT archive will be built"
      ]
     },
     "metadata": {},
     "output_type": "display_data"
    }
   ],
   "source": [
    "help"
   ]
  },
  {
   "cell_type": "code",
   "execution_count": null,
   "metadata": {},
   "outputs": [],
   "source": []
  }
 ],
 "metadata": {
  "kernelspec": {
   "display_name": "GLIF",
   "language": "gf",
   "name": "glif"
  },
  "language_info": {
   "codemirror_mode": {
    "name": "gf",
    "version": 3
   },
   "file_extension": ".gf",
   "mimetype": "text/gf",
   "name": "gf"
  }
 },
 "nbformat": 4,
 "nbformat_minor": 4
}
