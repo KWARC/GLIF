{
 "cells": [
  {
   "cell_type": "markdown",
   "metadata": {},
   "source": [
    "GLF Kernel - Tutorial\n",
    "==="
   ]
  },
  {
   "cell_type": "markdown",
   "metadata": {},
   "source": [
    "#### Installation\n",
    "See the instructions in the GitHub repository ([https://github.com/kwarc/glf_kernel](https://github.com/kwarc/glf_kernel))."
   ]
  },
  {
   "cell_type": "markdown",
   "metadata": {},
   "source": [
    "#### Very Brief Intro: Jupyter Cells\n",
    "In Jupyter, there are two types of cells:\n",
    "* *markdown cells* (such as this one), which can be used for documentation and explanations\n",
    "* *code cells*, which contain GF grammars and shell commands if you use the GF kernel\n",
    "\n",
    "You can edit a cell by clicking on it (double clicking in the case of markdown cells).\n",
    "To execute the cell, you can press <kbd>Ctrl</kbd>+<kbd>Return</kbd> or <kbd>Shift</kbd>+<kbd>Return</kbd>. If you want to execute all cells in the notebook, you can choose *Cell* -> *Run All* in the top menu."
   ]
  },
  {
   "cell_type": "markdown",
   "metadata": {},
   "source": [
    "## GLF Kernel Commands\n",
    "\n",
    "You can use this kernel to create new MMT archives or switch to existing ones using the `archive` command.\n",
    "\n",
    "`archive -c 'archive-name'` will create a new archive.\n",
    "\n",
    "`archive 'archive-name'` will set your current working archive to the speciified archive.\n",
    "\n",
    "The default archive for this kernel will be `COMMA/JUPYTER`"
   ]
  },
  {
   "cell_type": "code",
   "execution_count": 1,
   "metadata": {},
   "outputs": [
    {
     "data": {
      "text/plain": [
       "comma/jupyter already exists!"
      ]
     },
     "metadata": {},
     "output_type": "display_data"
    }
   ],
   "source": [
    "archive -c comma/jupyter"
   ]
  },
  {
   "cell_type": "markdown",
   "metadata": {},
   "source": [
    "## Defining Grammars\n",
    "Now you can define GF Grammars directly in the notebook using code cells.\n",
    "\n",
    "These grammars will automatically be saved into the source directory of the specified archive.\n",
    "\n",
    "For toggling line numbers in a cell, you need to switch to command mode (<kbd>Esc</kbd>) and press <kbd>L</kbd>."
   ]
  },
  {
   "cell_type": "code",
   "execution_count": 2,
   "metadata": {},
   "outputs": [
    {
     "data": {
      "text/plain": [
       "Import successful!"
      ]
     },
     "metadata": {},
     "output_type": "display_data"
    }
   ],
   "source": [
    "abstract Grammar = {\n",
    "    cat\n",
    "        Person ; Action ; Sentence ;\n",
    "\n",
    "    fun\n",
    "        john, mary : Person ;\n",
    "        run, be_happy : Action ;\n",
    "        make_sentence : Person -> Action -> Sentence ;\n",
    "        and : Sentence -> Sentence -> Sentence ;\n",
    "}"
   ]
  },
  {
   "cell_type": "code",
   "execution_count": 3,
   "metadata": {},
   "outputs": [
    {
     "data": {
      "text/plain": [
       "Import successful!"
      ]
     },
     "metadata": {},
     "output_type": "display_data"
    }
   ],
   "source": [
    "concrete GrammarEng of Grammar = {\n",
    "    lincat\n",
    "        Person = Str ;\n",
    "        Action = Str ;\n",
    "        Sentence = Str ;\n",
    "    lin\n",
    "        john = \"John\" ;\n",
    "        mary = \"Mary\" ;\n",
    "        run = \"runs\" ;\n",
    "        be_happy = \"is happy\" ;\n",
    "        make_sentence person action = person ++ action ;\n",
    "        and a b = a ++ \"and\" ++ b ;\n",
    "}"
   ]
  },
  {
   "cell_type": "markdown",
   "metadata": {},
   "source": [
    "If you also want to have one of your grammars as a `.gf` file, you can export it with the kernel command `export`."
   ]
  },
  {
   "cell_type": "code",
   "execution_count": 9,
   "metadata": {},
   "outputs": [
    {
     "data": {
      "text/plain": [
       "Category S is not in scope"
      ]
     },
     "metadata": {},
     "output_type": "display_data"
    }
   ],
   "source": [
    "parse \"John runs\""
   ]
  },
  {
   "cell_type": "code",
   "execution_count": 12,
   "metadata": {},
   "outputs": [
    {
     "data": {
      "text/plain": [
       "Exported Grammar.gf"
      ]
     },
     "metadata": {},
     "output_type": "display_data"
    }
   ],
   "source": [
    "export Grammar"
   ]
  },
  {
   "cell_type": "code",
   "execution_count": 5,
   "metadata": {},
   "outputs": [
    {
     "data": {
      "text/plain": [
       "Category S is not in scope\n"
      ]
     },
     "metadata": {},
     "output_type": "display_data"
    }
   ],
   "source": [
    "gr"
   ]
  },
  {
   "cell_type": "markdown",
   "metadata": {},
   "source": [
    "You can also import a grammar from a file using the GF shell command `import`.\n",
    "\n",
    "*Note*: For importing `ExampleGer.gf` it is required that `Example.gf` exists, so you need to `export Example` first."
   ]
  },
  {
   "cell_type": "code",
   "execution_count": 3,
   "metadata": {},
   "outputs": [
    {
     "data": {
      "text/plain": [
       "Available kernel commands: \n",
       "view 'gf_command' : view the graph(s) generated by 'gf_command'\n",
       "clean : remove all .dot, .png, .gfo files from the current directory.\n",
       "export 'name' : export the grammar with 'name' to your current directory\n",
       "h : display more information on the GF shell commands\n",
       "Otherwise you can use the kernel as an editor for your grammars.\n",
       "Stated grammars are automatically imported upon definiton."
      ]
     },
     "metadata": {},
     "output_type": "display_data"
    },
    {
     "name": "stdout",
     "output_type": "stream",
     "text": [
      "help \n"
     ]
    }
   ],
   "source": [
    "help"
   ]
  },
  {
   "cell_type": "markdown",
   "metadata": {},
   "source": [
    "You can also use it to define new theories and views that you would like to use with your grammars.\n",
    "Every time a new theory, view or grammar is specified MMT will build your current archive.\n",
    "\n",
    "The namespace of defined theories or views will automatically be set to the current archive."
   ]
  },
  {
   "cell_type": "code",
   "execution_count": 5,
   "metadata": {},
   "outputs": [
    {
     "data": {
      "text/plain": [
       "Created theory FolLogic"
      ]
     },
     "metadata": {},
     "output_type": "display_data"
    }
   ],
   "source": [
    "theory FolLogic : ur:?LF =\n",
    "\to : type ❙\n",
    "\tι : type ❙\n",
    "\tand : o ⟶ o ⟶ o ❘ # 1 ∧ 2 ❙\n",
    "❚"
   ]
  },
  {
   "cell_type": "code",
   "execution_count": 6,
   "metadata": {},
   "outputs": [
    {
     "data": {
      "text/plain": [
       "Created theory DomainTheory"
      ]
     },
     "metadata": {},
     "output_type": "display_data"
    }
   ],
   "source": [
    "theory DomainTheory : ?FolLogic =\n",
    "\tjohn : ι ❙\n",
    "\tmary : ι ❙\n",
    "\trun : ι ⟶ o ❙\n",
    "\thappy : ι ⟶ o ❙\n",
    "❚"
   ]
  },
  {
   "cell_type": "code",
   "execution_count": 12,
   "metadata": {},
   "outputs": [
    {
     "data": {
      "text/plain": [
       "Created view grammarSem"
      ]
     },
     "metadata": {},
     "output_type": "display_data"
    }
   ],
   "source": [
    "view grammarSem : JUPYTER/Grammar.gf?Grammar -> ?DomainTheory =\n",
    "\tPerson = ι ❙\n",
    "\tAction = ι ⟶ o ❙\n",
    "\tSentence = o ❙\n",
    "\tjohn = john ❙\n",
    "\tmary = mary ❙\n",
    "\trun = run ❙\n",
    "\tbe_happy = happy ❙\n",
    "\tmake_sentence = [p,a] (a p) ❙\n",
    "\tand = [a,b] b ∧ a ❙\n",
    "❚"
   ]
  },
  {
   "cell_type": "markdown",
   "metadata": {},
   "source": [
    "Now you can send requests to the GLF-Server using the `request` command.\n",
    "By default `request` uses the last view you defined and a takes list of abstract syntax trees separated by vertical bars as argument."
   ]
  },
  {
   "cell_type": "code",
   "execution_count": 13,
   "metadata": {},
   "outputs": [
    {
     "data": {
      "text/plain": [
       "[\"(happy mary)∧(run john)\"]"
      ]
     },
     "metadata": {},
     "output_type": "display_data"
    }
   ],
   "source": [
    "parse \"John request and (make_sentence john run) (make_sentence mary be_happy)"
   ]
  },
  {
   "cell_type": "code",
   "execution_count": 16,
   "metadata": {},
   "outputs": [
    {
     "data": {
      "text/plain": [
       "<div xmlns=\"http://www.w3.org/1999/xhtml\"><div><div class=\"error\"><div><span class=\"name\">info.kwarc.mmt.api.frontend.Extension$LocalError</span> of level <span class=\"level\">2</span></div><div class=\"message\">GlfServer: unknown error while serving :glf</div><div class=\"stacktrace\"><div class=\"stacktraceline\"><span>info.kwarc.mmt.api.web.Server.resolveExtension(Server.scala:104)</span></div><div class=\"stacktraceline\"><span>info.kwarc.mmt.api.web.Server.resolve(Server.scala:80)</span></div><div class=\"stacktraceline\"><span>info.kwarc.mmt.api.web.Server.handleRequest(Server.scala:55)</span></div><div class=\"stacktraceline\"><span>info.kwarc.mmt.api.web.TiscafServerImplementation$RequestHandler$$anon$1.act(TiscafServerImplementation.scala:49)</span></div><div class=\"stacktraceline\"><span>tiscaf.HSimpleLet.aact(HLet.scala:168)</span></div><div class=\"stacktraceline\"><span>tiscaf.HSimpleLet.aact$(HLet.scala:167)</span></div><div class=\"stacktraceline\"><span>info.kwarc.mmt.api.web.TiscafServerImplementation$RequestHandler$$anon$1.aact(TiscafServerImplementation.scala:47)</span></div><div class=\"stacktraceline\"><span>tiscaf.HAcceptor.talk(HAcceptor.scala:246)</span></div><div class=\"stacktraceline\"><span>tiscaf.HSimplePeer.doTalkItself$1(HPeer.scala:105)</span></div><div class=\"stacktraceline\"><span>tiscaf.HSimplePeer.$anonfun$readChannel$2(HPeer.scala:119)</span></div><div class=\"stacktraceline\"><span>scala.runtime.java8.JFunction0$mcV$sp.apply(JFunction0$mcV$sp.java:23)</span></div><div class=\"stacktraceline\"><span>scala.concurrent.Future$.$anonfun$apply$1(Future.scala:658)</span></div><div class=\"stacktraceline\"><span>scala.util.Success.$anonfun$map$1(Try.scala:255)</span></div><div class=\"stacktraceline\"><span>scala.util.Success.map(Try.scala:213)</span></div><div class=\"stacktraceline\"><span>scala.concurrent.Future.$anonfun$map$1(Future.scala:292)</span></div><div class=\"stacktraceline\"><span>scala.concurrent.impl.Promise.liftedTree1$1(Promise.scala:33)</span></div><div class=\"stacktraceline\"><span>scala.concurrent.impl.Promise.$anonfun$transform$1(Promise.scala:33)</span></div><div class=\"stacktraceline\"><span>scala.concurrent.impl.CallbackRunnable.run(Promise.scala:64)</span></div><div class=\"stacktraceline\"><span>tiscaf.sync.SyncQuExecutionContext$$anon$1.run(SyncQuExecutionContext.scala:69)</span></div></div><div>caused by</div><div class=\"cause\"><div>class info.kwarc.mmt.glf.LangTheoryIncomplete : Constant 'Category' not found in language theory<div class=\"stacktrace\"><div class=\"stacktraceline\"><span>info.kwarc.mmt.glf.GfFun.getTerm(GfAST.scala:28)</span></div><div class=\"stacktraceline\"><span>info.kwarc.mmt.glf.GfFun.toOMDocRec(GfAST.scala:21)</span></div><div class=\"stacktraceline\"><span>info.kwarc.mmt.glf.GlfServer.$anonfun$apply$6(GlfServer.scala:47)</span></div><div class=\"stacktraceline\"><span>scala.collection.immutable.List.map(List.scala:286)</span></div><div class=\"stacktraceline\"><span>info.kwarc.mmt.glf.GlfServer.apply(GlfServer.scala:47)</span></div><div class=\"stacktraceline\"><span>info.kwarc.mmt.api.web.Server.resolveExtension(Server.scala:99)</span></div><div class=\"stacktraceline\"><span>info.kwarc.mmt.api.web.Server.resolve(Server.scala:80)</span></div><div class=\"stacktraceline\"><span>info.kwarc.mmt.api.web.Server.handleRequest(Server.scala:55)</span></div><div class=\"stacktraceline\"><span>info.kwarc.mmt.api.web.TiscafServerImplementation$RequestHandler$$anon$1.act(TiscafServerImplementation.scala:49)</span></div><div class=\"stacktraceline\"><span>tiscaf.HSimpleLet.aact(HLet.scala:168)</span></div><div class=\"stacktraceline\"><span>tiscaf.HSimpleLet.aact$(HLet.scala:167)</span></div><div class=\"stacktraceline\"><span>info.kwarc.mmt.api.web.TiscafServerImplementation$RequestHandler$$anon$1.aact(TiscafServerImplementation.scala:47)</span></div><div class=\"stacktraceline\"><span>tiscaf.HAcceptor.talk(HAcceptor.scala:246)</span></div><div class=\"stacktraceline\"><span>tiscaf.HSimplePeer.doTalkItself$1(HPeer.scala:105)</span></div><div class=\"stacktraceline\"><span>tiscaf.HSimplePeer.$anonfun$readChannel$2(HPeer.scala:119)</span></div><div class=\"stacktraceline\"><span>scala.runtime.java8.JFunction0$mcV$sp.apply(JFunction0$mcV$sp.java:23)</span></div><div class=\"stacktraceline\"><span>scala.concurrent.Future$.$anonfun$apply$1(Future.scala:658)</span></div><div class=\"stacktraceline\"><span>scala.util.Success.$anonfun$map$1(Try.scala:255)</span></div><div class=\"stacktraceline\"><span>scala.util.Success.map(Try.scala:213)</span></div><div class=\"stacktraceline\"><span>scala.concurrent.Future.$anonfun$map$1(Future.scala:292)</span></div><div class=\"stacktraceline\"><span>scala.concurrent.impl.Promise.liftedTree1$1(Promise.scala:33)</span></div><div class=\"stacktraceline\"><span>scala.concurrent.impl.Promise.$anonfun$transform$1(Promise.scala:33)</span></div><div class=\"stacktraceline\"><span>scala.concurrent.impl.CallbackRunnable.run(Promise.scala:64)</span></div><div class=\"stacktraceline\"><span>tiscaf.sync.SyncQuExecutionContext$$anon$1.run(SyncQuExecutionContext.scala:69)</span></div></div></div></div></div></div></div>"
      ]
     },
     "metadata": {},
     "output_type": "display_data"
    }
   ],
   "source": [
    "parse \"John runs\" | request -v grammarSem"
   ]
  },
  {
   "cell_type": "markdown",
   "metadata": {},
   "source": [
    "Should you wish to change the current view that is used for the requests you can do it via the -v option.\n",
    "This also sets the specified view as the default view for further requests."
   ]
  },
  {
   "cell_type": "code",
   "execution_count": 10,
   "metadata": {},
   "outputs": [
    {
     "data": {
      "text/plain": [
       "<div xmlns=\"http://www.w3.org/1999/xhtml\"><div><div class=\"error\"><div><span class=\"name\">info.kwarc.mmt.api.web.ServerError</span> of level <span class=\"level\">2</span></div><div class=\"message\">Could not find view Some(http://mathhub.info/COMMA/JUPYTER?grammarSem2)</div><div class=\"stacktrace\"><div class=\"stacktraceline\"><span>info.kwarc.mmt.glf.GlfServer.$anonfun$apply$1(GlfServer.scala:18)</span></div><div class=\"stacktraceline\"><span>scala.Option.map(Option.scala:163)</span></div><div class=\"stacktraceline\"><span>info.kwarc.mmt.glf.GlfServer.apply(GlfServer.scala:16)</span></div><div class=\"stacktraceline\"><span>info.kwarc.mmt.api.web.Server.resolveExtension(Server.scala:99)</span></div><div class=\"stacktraceline\"><span>info.kwarc.mmt.api.web.Server.resolve(Server.scala:80)</span></div><div class=\"stacktraceline\"><span>info.kwarc.mmt.api.web.Server.handleRequest(Server.scala:55)</span></div><div class=\"stacktraceline\"><span>info.kwarc.mmt.api.web.TiscafServerImplementation$RequestHandler$$anon$1.act(TiscafServerImplementation.scala:49)</span></div><div class=\"stacktraceline\"><span>tiscaf.HSimpleLet.aact(HLet.scala:168)</span></div><div class=\"stacktraceline\"><span>tiscaf.HSimpleLet.aact$(HLet.scala:167)</span></div><div class=\"stacktraceline\"><span>info.kwarc.mmt.api.web.TiscafServerImplementation$RequestHandler$$anon$1.aact(TiscafServerImplementation.scala:47)</span></div><div class=\"stacktraceline\"><span>tiscaf.HAcceptor.talk(HAcceptor.scala:246)</span></div><div class=\"stacktraceline\"><span>tiscaf.HSimplePeer.doTalkItself$1(HPeer.scala:105)</span></div><div class=\"stacktraceline\"><span>tiscaf.HSimplePeer.$anonfun$readChannel$2(HPeer.scala:119)</span></div><div class=\"stacktraceline\"><span>scala.runtime.java8.JFunction0$mcV$sp.apply(JFunction0$mcV$sp.java:23)</span></div><div class=\"stacktraceline\"><span>scala.concurrent.Future$.$anonfun$apply$1(Future.scala:658)</span></div><div class=\"stacktraceline\"><span>scala.util.Success.$anonfun$map$1(Try.scala:255)</span></div><div class=\"stacktraceline\"><span>scala.util.Success.map(Try.scala:213)</span></div><div class=\"stacktraceline\"><span>scala.concurrent.Future.$anonfun$map$1(Future.scala:292)</span></div><div class=\"stacktraceline\"><span>scala.concurrent.impl.Promise.liftedTree1$1(Promise.scala:33)</span></div><div class=\"stacktraceline\"><span>scala.concurrent.impl.Promise.$anonfun$transform$1(Promise.scala:33)</span></div><div class=\"stacktraceline\"><span>scala.concurrent.impl.CallbackRunnable.run(Promise.scala:64)</span></div><div class=\"stacktraceline\"><span>tiscaf.sync.SyncQuExecutionContext$$anon$1.run(SyncQuExecutionContext.scala:69)</span></div></div></div></div></div>"
      ]
     },
     "metadata": {},
     "output_type": "display_data"
    }
   ],
   "source": [
    "request -v grammarSem2 and (make_sentence john run) (make_sentence mary be_happy) | make_sentence john run"
   ]
  },
  {
   "cell_type": "markdown",
   "metadata": {},
   "source": [
    "## Using GF Shell Commands\n",
    "\n",
    "You can use all the GF shell commands you are used to by simply entering them in a code cell:"
   ]
  },
  {
   "cell_type": "code",
   "execution_count": 14,
   "metadata": {},
   "outputs": [
    {
     "data": {
      "text/plain": [
       "Category S is not in scope\n"
      ]
     },
     "metadata": {},
     "output_type": "display_data"
    }
   ],
   "source": [
    "p -lang=Eng \"John loves Mary\" | l -lang=Ger"
   ]
  },
  {
   "cell_type": "markdown",
   "metadata": {},
   "source": [
    "#### Viewing Graphs\n",
    "\n",
    "You can view graphs in an external application as you are used to (e.g. `visualize_tree -view=MyImageViewer`).\n",
    "However, it is also possible, to view graphs directly in the notebook.\n",
    "For this, the command needs to be preceded by the kernel instruction `view`."
   ]
  },
  {
   "cell_type": "code",
   "execution_count": 9,
   "metadata": {},
   "outputs": [
    {
     "data": {
      "text/plain": [
       "There is no tree to show!"
      ]
     },
     "metadata": {},
     "output_type": "display_data"
    }
   ],
   "source": [
    "view parse -lang=Eng \"John loves Mary\" | visualize_parse"
   ]
  },
  {
   "cell_type": "markdown",
   "metadata": {},
   "source": [
    "If multiple graphs are generated, you can switch between them in a drop-down menu:"
   ]
  },
  {
   "cell_type": "code",
   "execution_count": 7,
   "metadata": {},
   "outputs": [
    {
     "data": {
      "application/vnd.jupyter.widget-view+json": {
       "model_id": "e757e74597f9479e94c60f4973dc6601",
       "version_major": 2,
       "version_minor": 0
      },
      "text/plain": [
       "Dropdown(description='Tree of:', options=('and (love john mary) (and (love mary john) (love john john))', 'and…"
      ]
     },
     "metadata": {},
     "output_type": "display_data"
    },
    {
     "data": {
      "application/vnd.jupyter.widget-view+json": {
       "model_id": "d8e927af88f1484394652c3a8831a850",
       "version_major": 2,
       "version_minor": 0
      },
      "text/plain": [
       "Image(value=b'\\x89PNG\\r\\n\\x1a\\n\\x00\\x00\\x00\\rIHDR\\x00\\x00\\x028\\x00\\x00\\x01[\\x08\\x06\\x00\\x00\\x00\\xd8\\xfd\\xf4\\x9…"
      ]
     },
     "metadata": {},
     "output_type": "display_data"
    }
   ],
   "source": [
    "view parse -lang=Eng \"John loves Mary and Mary loves John and John loves John\" | vt"
   ]
  },
  {
   "cell_type": "markdown",
   "metadata": {},
   "source": [
    "## Further Kernel Commands\n",
    "\n",
    "Apart from `export` and `view`, there are two more kernel commands: `clean` and `help`.\n",
    "\n",
    "`clean` removes `.gfo`, `.dot` and `.png` files.\n",
    "\n",
    "`help` displays information on the kernel commands (not the GF shell commands).\n",
    "If you want information on the GF shell commands instead, you should use\n",
    "the shortcut `h` instead:"
   ]
  },
  {
   "cell_type": "code",
   "execution_count": 8,
   "metadata": {},
   "outputs": [
    {
     "data": {
      "text/plain": [
       "r, reload\n",
       "repeat the latest import command\n"
      ]
     },
     "metadata": {},
     "output_type": "display_data"
    }
   ],
   "source": [
    "h reload"
   ]
  },
  {
   "cell_type": "code",
   "execution_count": null,
   "metadata": {},
   "outputs": [],
   "source": []
  }
 ],
 "metadata": {
  "kernelspec": {
   "display_name": "GLF",
   "language": "glf",
   "name": "glf"
  },
  "language_info": {
   "file_extension": ".gf",
   "mimetype": "text/gf",
   "name": "gf"
  }
 },
 "nbformat": 4,
 "nbformat_minor": 2
}
