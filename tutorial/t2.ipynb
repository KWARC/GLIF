{
 "cells": [
  {
   "cell_type": "markdown",
   "metadata": {},
   "source": [
    "GF Kernel - Tutorial\n",
    "==="
   ]
  },
  {
   "cell_type": "markdown",
   "metadata": {},
   "source": [
    "#### Installation\n",
    "See the instructions in the GitHub repository ([https://github.com/kwarc/gf_kernel](https://github.com/kwarc/gf_kernel))."
   ]
  },
  {
   "cell_type": "markdown",
   "metadata": {},
   "source": [
    "#### Very Brief Intro: Jupyter Cells\n",
    "In Jupyter, there are two types of cells:\n",
    "* *markdown cells* (such as this one), which can be used for documentation and explanations\n",
    "* *code cells*, which contain GF grammars and shell commands if you use the GF kernel\n",
    "\n",
    "You can edit a cell by clicking on it (double clicking in the case of markdown cells).\n",
    "To execute the cell, you can press <kbd>Ctrl</kbd>+<kbd>Return</kbd>. If you want to execute all cells in the notebook, you can choose *Cell* -> *Run All* in the top menu."
   ]
  },
  {
   "cell_type": "markdown",
   "metadata": {},
   "source": [
    "## Defining Grammars\n",
    "You can define GF Grammars directly in the notebook using code cells.\n",
    "\n",
    "For toggling line numbers in a cell, you need to switch to command mode (<kbd>Esc</kbd>) and press <kbd>L</kbd>."
   ]
  },
  {
   "cell_type": "code",
   "execution_count": 1,
   "metadata": {},
   "outputs": [
    {
     "name": "stdout",
     "output_type": "stream",
     "text": [
      "import /home/kai/MMT-content/comma/jupyter/source/Example.gfGF\n"
     ]
    },
    {
     "data": {
      "text/plain": [
       "Import successful!"
      ]
     },
     "metadata": {},
     "output_type": "display_data"
    }
   ],
   "source": [
    "abstract Example = {\n",
    "    cat\n",
    "        NP ; S ;    -- noun phrases and sentences\n",
    "    fun\n",
    "        john, mary : NP ;\n",
    "        love : NP -> NP -> S ;\n",
    "        and : S -> S -> S ;\n",
    "}"
   ]
  },
  {
   "cell_type": "code",
   "execution_count": 2,
   "metadata": {},
   "outputs": [
    {
     "name": "stdout",
     "output_type": "stream",
     "text": [
      "import /home/kai/MMT-content/comma/jupyter/source/ExampleEng.gfGF\n"
     ]
    },
    {
     "data": {
      "text/plain": [
       "Import successful!"
      ]
     },
     "metadata": {},
     "output_type": "display_data"
    }
   ],
   "source": [
    "concrete ExampleEng of Example = {\n",
    "    lincat\n",
    "        NP, S = Str ;\n",
    "    lin\n",
    "        john = \"John\" ;\n",
    "        mary = \"Mary\" ;\n",
    "        love a b = a ++ \"loves\" ++ b ;\n",
    "        and a b = a ++ \"and\" ++ b ;\n",
    "}"
   ]
  },
  {
   "cell_type": "markdown",
   "metadata": {},
   "source": [
    "If you also want to have one of your grammars as a `.gf` file, you can export it with the kernel command `export`."
   ]
  },
  {
   "cell_type": "code",
   "execution_count": null,
   "metadata": {},
   "outputs": [
    {
     "name": "stdout",
     "output_type": "stream",
     "text": [
      "grGF\n"
     ]
    }
   ],
   "source": [
    "gr"
   ]
  },
  {
   "cell_type": "markdown",
   "metadata": {},
   "source": [
    "You can also import a grammar from a file using the GF shell command `import`.\n",
    "\n",
    "*Note*: For importing `ExampleGer.gf` it is required that `Example.gf` exists, so you need to `export Example` first."
   ]
  },
  {
   "cell_type": "code",
   "execution_count": 5,
   "metadata": {},
   "outputs": [
    {
     "name": "stdout",
     "output_type": "stream",
     "text": [
      "import ExampleGer.gfGF\n"
     ]
    },
    {
     "data": {},
     "metadata": {},
     "output_type": "display_data"
    }
   ],
   "source": [
    "import ExampleGer.gf"
   ]
  },
  {
   "cell_type": "markdown",
   "metadata": {},
   "source": [
    "## Using Shell Commands\n",
    "\n",
    "You can use all the GF shell commands you are used to by simply entering them in a code cell:"
   ]
  },
  {
   "cell_type": "code",
   "execution_count": 3,
   "metadata": {},
   "outputs": [
    {
     "name": "stdout",
     "output_type": "stream",
     "text": [
      "parse \"John loves Mary and Mary loves John\"GF\n"
     ]
    },
    {
     "data": {},
     "metadata": {},
     "output_type": "display_data"
    },
    {
     "name": "stdout",
     "output_type": "stream",
     "text": [
      "request -v asdf and (love john mary) (love mary john)MMT\n"
     ]
    }
   ],
   "source": [
    "parse \"John loves Mary and Mary loves John\" | request -v asdf"
   ]
  },
  {
   "cell_type": "markdown",
   "metadata": {},
   "source": [
    "#### Viewing Graphs\n",
    "\n",
    "You can view graphs in an external application as you are used to (e.g. `visualize_tree -view=MyImageViewer`).\n",
    "However, it is also possible, to view graphs directly in the notebook.\n",
    "For this, the command needs to be preceded by the kernel instruction `view`."
   ]
  },
  {
   "cell_type": "code",
   "execution_count": 3,
   "metadata": {
    "scrolled": true
   },
   "outputs": [
    {
     "name": "stdout",
     "output_type": "stream",
     "text": [
      "parse -lang=Eng \"John loves Mary\"GF\n",
      "vt love john maryGF\n",
      "show graph {\n",
      "n0[label = \"love : S\", style = \"solid\", shape = \"plaintext\"] ;\n",
      "n0_0[label = \"john : NP\", style = \"solid\", shape = \"plaintext\"] ;\n",
      "n0 -- n0_0 [style = \"solid\"];\n",
      "n1_0[label = \"mary : NP\", style = \"solid\", shape = \"plaintext\"] ;\n",
      "n0 -- n1_0 [style = \"solid\"];\n",
      "}\n",
      "KERNEL\n"
     ]
    },
    {
     "data": {
      "application/vnd.jupyter.widget-view+json": {
       "model_id": "ca721805e2ff4836b347823a88a84171",
       "version_major": 2,
       "version_minor": 0
      },
      "text/plain": [
       "Image(value=b'\\x89PNG\\r\\n\\x1a\\n\\x00\\x00\\x00\\rIHDR\\x00\\x00\\x00\\xe2\\x00\\x00\\x00\\x9b\\x08\\x06\\x00\\x00\\x00\\x7f=G\\xd…"
      ]
     },
     "metadata": {},
     "output_type": "display_data"
    }
   ],
   "source": [
    "parse -lang=Eng \"John loves Mary\" | vt | show"
   ]
  },
  {
   "cell_type": "markdown",
   "metadata": {},
   "source": [
    "If multiple graphs are generated, you can switch between them in a drop-down menu:"
   ]
  },
  {
   "cell_type": "code",
   "execution_count": 5,
   "metadata": {},
   "outputs": [
    {
     "name": "stdout",
     "output_type": "stream",
     "text": [
      "parse -lang=Eng \"John loves Mary and Mary loves John and John loves John\"GF\n",
      "vt and (love john mary) (and (love mary john) (love john john))GF\n",
      "vt and (and (love john mary) (love mary john)) (love john john)GF\n",
      "show graph {\n",
      "n0[label = \"and : S\", style = \"solid\", shape = \"plaintext\"] ;\n",
      "n0_0[label = \"love : S\", style = \"solid\", shape = \"plaintext\"] ;\n",
      "n0 -- n0_0 [style = \"solid\"];\n",
      "n0_0_0[label = \"john : NP\", style = \"solid\", shape = \"plaintext\"] ;\n",
      "n0_0 -- n0_0_0 [style = \"solid\"];\n",
      "n1_0_0[label = \"mary : NP\", style = \"solid\", shape = \"plaintext\"] ;\n",
      "n0_0 -- n1_0_0 [style = \"solid\"];\n",
      "n1_0[label = \"and : S\", style = \"solid\", shape = \"plaintext\"] ;\n",
      "n0 -- n1_0 [style = \"solid\"];\n",
      "n0_1_0[label = \"love : S\", style = \"solid\", shape = \"plaintext\"] ;\n",
      "n1_0 -- n0_1_0 [style = \"solid\"];\n",
      "n0_0_1_0[label = \"mary : NP\", style = \"solid\", shape = \"plaintext\"] ;\n",
      "n0_1_0 -- n0_0_1_0 [style = \"solid\"];\n",
      "n1_0_1_0[label = \"john : NP\", style = \"solid\", shape = \"plaintext\"] ;\n",
      "n0_1_0 -- n1_0_1_0 [style = \"solid\"];\n",
      "n1_1_0[label = \"love : S\", style = \"solid\", shape = \"plaintext\"] ;\n",
      "n1_0 -- n1_1_0 [style = \"solid\"];\n",
      "n0_1_1_0[label = \"john : NP\", style = \"solid\", shape = \"plaintext\"] ;\n",
      "n1_1_0 -- n0_1_1_0 [style = \"solid\"];\n",
      "n1_1_1_0[label = \"john : NP\", style = \"solid\", shape = \"plaintext\"] ;\n",
      "n1_1_0 -- n1_1_1_0 [style = \"solid\"];\n",
      "}\n",
      "KERNEL\n",
      "show graph {\n",
      "n0[label = \"and : S\", style = \"solid\", shape = \"plaintext\"] ;\n",
      "n0_0[label = \"and : S\", style = \"solid\", shape = \"plaintext\"] ;\n",
      "n0 -- n0_0 [style = \"solid\"];\n",
      "n0_0_0[label = \"love : S\", style = \"solid\", shape = \"plaintext\"] ;\n",
      "n0_0 -- n0_0_0 [style = \"solid\"];\n",
      "n0_0_0_0[label = \"john : NP\", style = \"solid\", shape = \"plaintext\"] ;\n",
      "n0_0_0 -- n0_0_0_0 [style = \"solid\"];\n",
      "n1_0_0_0[label = \"mary : NP\", style = \"solid\", shape = \"plaintext\"] ;\n",
      "n0_0_0 -- n1_0_0_0 [style = \"solid\"];\n",
      "n1_0_0[label = \"love : S\", style = \"solid\", shape = \"plaintext\"] ;\n",
      "n0_0 -- n1_0_0 [style = \"solid\"];\n",
      "n0_1_0_0[label = \"mary : NP\", style = \"solid\", shape = \"plaintext\"] ;\n",
      "n1_0_0 -- n0_1_0_0 [style = \"solid\"];\n",
      "n1_1_0_0[label = \"john : NP\", style = \"solid\", shape = \"plaintext\"] ;\n",
      "n1_0_0 -- n1_1_0_0 [style = \"solid\"];\n",
      "n1_0[label = \"love : S\", style = \"solid\", shape = \"plaintext\"] ;\n",
      "n0 -- n1_0 [style = \"solid\"];\n",
      "n0_1_0[label = \"john : NP\", style = \"solid\", shape = \"plaintext\"] ;\n",
      "n1_0 -- n0_1_0 [style = \"solid\"];\n",
      "n1_1_0[label = \"john : NP\", style = \"solid\", shape = \"plaintext\"] ;\n",
      "n1_0 -- n1_1_0 [style = \"solid\"];\n",
      "}\n",
      "KERNEL\n"
     ]
    },
    {
     "data": {
      "application/vnd.jupyter.widget-view+json": {
       "model_id": "0de9f9293a2a4a32a4dab9ef0bb115a1",
       "version_major": 2,
       "version_minor": 0
      },
      "text/plain": [
       "Dropdown(description='Tree of:', options=('graph {\\nn0[label = \"and : S\", style = \"solid\", shape = \"plaintext\"…"
      ]
     },
     "metadata": {},
     "output_type": "display_data"
    },
    {
     "data": {
      "application/vnd.jupyter.widget-view+json": {
       "model_id": "c420cb08db354b3e844114c88b410c97",
       "version_major": 2,
       "version_minor": 0
      },
      "text/plain": [
       "Image(value=b'\\x89PNG\\r\\n\\x1a\\n\\x00\\x00\\x00\\rIHDR\\x00\\x00\\x028\\x00\\x00\\x01[\\x08\\x06\\x00\\x00\\x00\\xd8\\xfd\\xf4\\x9…"
      ]
     },
     "metadata": {},
     "output_type": "display_data"
    }
   ],
   "source": [
    "parse -lang=Eng \"John loves Mary and Mary loves John and John loves John\" | vt | show"
   ]
  },
  {
   "cell_type": "code",
   "execution_count": 6,
   "metadata": {},
   "outputs": [
    {
     "name": "stdout",
     "output_type": "stream",
     "text": [
      "parse -lang=Eng \"John loves Mary\"GF\n",
      "vt love john maryGF\n",
      "put_string graph {\n",
      "n0[label = \"love : S\", style = \"solid\", shape = \"plaintext\"] ;\n",
      "n0_0[label = \"john : NP\", style = \"solid\", shape = \"plaintext\"] ;\n",
      "n0 -- n0_0 [style = \"solid\"];\n",
      "n1_0[label = \"mary : NP\", style = \"solid\", shape = \"plaintext\"] ;\n",
      "n0 -- n1_0 [style = \"solid\"];\n",
      "}\n",
      "GF\n"
     ]
    },
    {
     "data": {
      "text/plain": [
       "command not parsed: put_string graph {\n",
       "command not parsed: n0[label = \"love : S\", style = \"solid\", shape = \"plaintext\"] ;\n",
       "command not parsed: n0_0[label = \"john : NP\", style = \"solid\", shape = \"plaintext\"] ;\n",
       "command not parsed: n0 -- n0_0 [style = \"solid\"];\n",
       "command not parsed: n1_0[label = \"mary : NP\", style = \"solid\", shape = \"plaintext\"] ;\n",
       "command not parsed: n0 -- n1_0 [style = \"solid\"];\n",
       "command not parsed: }\n"
      ]
     },
     "metadata": {},
     "output_type": "display_data"
    }
   ],
   "source": [
    "parse -lang=Eng \"John loves Mary\" | vt | put_string"
   ]
  },
  {
   "cell_type": "markdown",
   "metadata": {},
   "source": [
    "## Further Kernel Commands\n",
    "\n",
    "Apart from `export` and `view`, there are two more kernel commands: `clean` and `help`.\n",
    "\n",
    "`clean` removes `.gfo`, `.dot` and `.png` files.\n",
    "\n",
    "`help` displays information on the kernel commands (not the GF shell commands).\n",
    "If you want information on the GF shell commands instead, you should use\n",
    "the shortcut `h` instead:"
   ]
  },
  {
   "cell_type": "code",
   "execution_count": 9,
   "metadata": {},
   "outputs": [
    {
     "data": {
      "text/plain": [
       "There is no tree to show!"
      ]
     },
     "metadata": {},
     "output_type": "display_data"
    }
   ],
   "source": [
    "view"
   ]
  },
  {
   "cell_type": "code",
   "execution_count": null,
   "metadata": {},
   "outputs": [],
   "source": []
  }
 ],
 "metadata": {
  "kernelspec": {
   "display_name": "GLF",
   "language": "glf",
   "name": "glf"
  },
  "language_info": {
   "file_extension": ".gf",
   "mimetype": "text/gf",
   "name": "gf"
  }
 },
 "nbformat": 4,
 "nbformat_minor": 2
}
